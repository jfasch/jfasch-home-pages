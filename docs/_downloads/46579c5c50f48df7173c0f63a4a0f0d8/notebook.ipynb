{
 "cells": [
  {
   "cell_type": "markdown",
   "id": "af63b5be",
   "metadata": {},
   "source": [
    "# 2023-03-13"
   ]
  },
  {
   "cell_type": "code",
   "execution_count": 1,
   "id": "67f3ce4a",
   "metadata": {},
   "outputs": [
    {
     "name": "stdout",
     "output_type": "stream",
     "text": [
      "1\n",
      "2\n",
      "3\n",
      "4\n",
      "fuenf\n"
     ]
    }
   ],
   "source": [
    "l = [1,2,3,4, 'fuenf']\n",
    "for element in l:\n",
    "    print(element)"
   ]
  },
  {
   "cell_type": "code",
   "execution_count": 2,
   "id": "521d3dc9",
   "metadata": {},
   "outputs": [
    {
     "data": {
      "text/plain": [
       "[1, 2, 3, 4, 'fuenf']"
      ]
     },
     "execution_count": 2,
     "metadata": {},
     "output_type": "execute_result"
    }
   ],
   "source": [
    "l"
   ]
  },
  {
   "cell_type": "code",
   "execution_count": 3,
   "id": "e552d00f",
   "metadata": {},
   "outputs": [
    {
     "name": "stdout",
     "output_type": "stream",
     "text": [
      "<class 'list'>\n"
     ]
    }
   ],
   "source": [
    "print(type(l))"
   ]
  },
  {
   "cell_type": "code",
   "execution_count": 4,
   "id": "07bc7023",
   "metadata": {},
   "outputs": [],
   "source": [
    "i = 42"
   ]
  },
  {
   "cell_type": "code",
   "execution_count": 5,
   "id": "77776072",
   "metadata": {},
   "outputs": [
    {
     "data": {
      "text/plain": [
       "42"
      ]
     },
     "execution_count": 5,
     "metadata": {},
     "output_type": "execute_result"
    }
   ],
   "source": [
    "i"
   ]
  },
  {
   "cell_type": "code",
   "execution_count": 6,
   "id": "8f80d0ad",
   "metadata": {},
   "outputs": [
    {
     "name": "stdout",
     "output_type": "stream",
     "text": [
      "<class 'int'>\n"
     ]
    }
   ],
   "source": [
    "print(type(i))"
   ]
  },
  {
   "cell_type": "code",
   "execution_count": 7,
   "id": "a68f6528",
   "metadata": {},
   "outputs": [
    {
     "name": "stdout",
     "output_type": "stream",
     "text": [
      "hallo\n"
     ]
    }
   ],
   "source": [
    "exec('print(\"hallo\")')"
   ]
  },
  {
   "cell_type": "markdown",
   "id": "bf08276a",
   "metadata": {},
   "source": [
    "## Syntax"
   ]
  },
  {
   "cell_type": "markdown",
   "id": "47d4a251",
   "metadata": {},
   "source": [
    "### Comment vs Docstring"
   ]
  },
  {
   "cell_type": "code",
   "execution_count": 8,
   "id": "7be5b474",
   "metadata": {},
   "outputs": [],
   "source": [
    "# das ist ein kommentar"
   ]
  },
  {
   "cell_type": "code",
   "execution_count": 9,
   "id": "6f9ec58b",
   "metadata": {},
   "outputs": [],
   "source": [
    "i = 42 # das ist auch ein kommentar"
   ]
  },
  {
   "cell_type": "code",
   "execution_count": 10,
   "id": "79ab0ab1",
   "metadata": {},
   "outputs": [
    {
     "data": {
      "text/plain": [
       "42"
      ]
     },
     "execution_count": 10,
     "metadata": {},
     "output_type": "execute_result"
    }
   ],
   "source": [
    "i"
   ]
  },
  {
   "cell_type": "code",
   "execution_count": 11,
   "id": "ef3c5665",
   "metadata": {},
   "outputs": [],
   "source": [
    "# das ist die funktion foo, die hoechst komplex ist und \n",
    "# die parameter a und b nimmt, die idealerweise integers  sein sollten\n",
    "def foo(a, b):\n",
    "    return a+b"
   ]
  },
  {
   "cell_type": "code",
   "execution_count": 12,
   "id": "6109ccab",
   "metadata": {},
   "outputs": [],
   "source": [
    "def foo(a, b):\n",
    "    'das ist die funktion foo, die hoechst komplex ist und die parameter a und b nimmt, die idealerweise integers  sein sollten'\n",
    "    return a+b"
   ]
  },
  {
   "cell_type": "code",
   "execution_count": 13,
   "id": "094c2eb3",
   "metadata": {},
   "outputs": [
    {
     "data": {
      "text/plain": [
       "'das ist die funktion foo, die hoechst komplex ist und die parameter a und b nimmt, die idealerweise integers  sein sollten'"
      ]
     },
     "execution_count": 13,
     "metadata": {},
     "output_type": "execute_result"
    }
   ],
   "source": [
    "foo.__doc__"
   ]
  },
  {
   "cell_type": "code",
   "execution_count": 14,
   "id": "7e7e3f34",
   "metadata": {},
   "outputs": [
    {
     "name": "stdout",
     "output_type": "stream",
     "text": [
      "Help on function foo in module __main__:\n",
      "\n",
      "foo(a, b)\n",
      "    das ist die funktion foo, die hoechst komplex ist und die parameter a und b nimmt, die idealerweise integers  sein sollten\n",
      "\n"
     ]
    }
   ],
   "source": [
    "help(foo)"
   ]
  },
  {
   "cell_type": "code",
   "execution_count": 15,
   "id": "fc5e1d57",
   "metadata": {},
   "outputs": [
    {
     "data": {
      "text/plain": [
       "3"
      ]
     },
     "execution_count": 15,
     "metadata": {},
     "output_type": "execute_result"
    }
   ],
   "source": [
    "foo(1, 2)"
   ]
  },
  {
   "cell_type": "code",
   "execution_count": 16,
   "id": "2e25b163",
   "metadata": {},
   "outputs": [],
   "source": [
    "add = foo"
   ]
  },
  {
   "cell_type": "code",
   "execution_count": 17,
   "id": "ea0cab91",
   "metadata": {},
   "outputs": [
    {
     "data": {
      "text/plain": [
       "5"
      ]
     },
     "execution_count": 17,
     "metadata": {},
     "output_type": "execute_result"
    }
   ],
   "source": [
    "add(2, 3)"
   ]
  },
  {
   "cell_type": "code",
   "execution_count": 18,
   "id": "fc8087b5",
   "metadata": {},
   "outputs": [],
   "source": [
    "add = [1,2,3]"
   ]
  },
  {
   "cell_type": "code",
   "execution_count": 19,
   "id": "1f379b6d",
   "metadata": {},
   "outputs": [
    {
     "name": "stdout",
     "output_type": "stream",
     "text": [
      "'list' object is not callable <class 'TypeError'>\n"
     ]
    }
   ],
   "source": [
    "try:\n",
    "    add(2,3)\n",
    "except Exception as e:\n",
    "    print(e, type(e))"
   ]
  },
  {
   "cell_type": "markdown",
   "id": "d0e85621",
   "metadata": {},
   "source": [
    "### Tuple Unpacking"
   ]
  },
  {
   "cell_type": "code",
   "execution_count": 20,
   "id": "5e07ae2a",
   "metadata": {},
   "outputs": [],
   "source": [
    "l = [1, 'zwei', 3.0]"
   ]
  },
  {
   "cell_type": "code",
   "execution_count": 21,
   "id": "94d290e6",
   "metadata": {},
   "outputs": [],
   "source": [
    "a, b, c = l"
   ]
  },
  {
   "cell_type": "code",
   "execution_count": 22,
   "id": "ab294a2b",
   "metadata": {},
   "outputs": [
    {
     "data": {
      "text/plain": [
       "1"
      ]
     },
     "execution_count": 22,
     "metadata": {},
     "output_type": "execute_result"
    }
   ],
   "source": [
    "a"
   ]
  },
  {
   "cell_type": "code",
   "execution_count": 23,
   "id": "c1158dbb",
   "metadata": {},
   "outputs": [
    {
     "data": {
      "text/plain": [
       "'zwei'"
      ]
     },
     "execution_count": 23,
     "metadata": {},
     "output_type": "execute_result"
    }
   ],
   "source": [
    "b"
   ]
  },
  {
   "cell_type": "code",
   "execution_count": 24,
   "id": "981b5053",
   "metadata": {},
   "outputs": [
    {
     "data": {
      "text/plain": [
       "3.0"
      ]
     },
     "execution_count": 24,
     "metadata": {},
     "output_type": "execute_result"
    }
   ],
   "source": [
    "c"
   ]
  },
  {
   "cell_type": "code",
   "execution_count": 25,
   "id": "da38ec25",
   "metadata": {},
   "outputs": [],
   "source": [
    "a, *rest = l"
   ]
  },
  {
   "cell_type": "code",
   "execution_count": 26,
   "id": "9547c731",
   "metadata": {},
   "outputs": [
    {
     "data": {
      "text/plain": [
       "1"
      ]
     },
     "execution_count": 26,
     "metadata": {},
     "output_type": "execute_result"
    }
   ],
   "source": [
    "a"
   ]
  },
  {
   "cell_type": "code",
   "execution_count": 27,
   "id": "f0fc143a",
   "metadata": {},
   "outputs": [
    {
     "data": {
      "text/plain": [
       "['zwei', 3.0]"
      ]
     },
     "execution_count": 27,
     "metadata": {},
     "output_type": "execute_result"
    }
   ],
   "source": [
    "rest"
   ]
  },
  {
   "cell_type": "code",
   "execution_count": 28,
   "id": "bce45cd9",
   "metadata": {},
   "outputs": [
    {
     "name": "stdout",
     "output_type": "stream",
     "text": [
      "too many values to unpack (expected 2) <class 'ValueError'>\n"
     ]
    }
   ],
   "source": [
    "try:\n",
    "    a, b = l\n",
    "except Exception as e:\n",
    "    print(e, type(e))"
   ]
  },
  {
   "cell_type": "code",
   "execution_count": 29,
   "id": "f52f131d",
   "metadata": {},
   "outputs": [
    {
     "data": {
      "text/plain": [
       "(1, 2)"
      ]
     },
     "execution_count": 29,
     "metadata": {},
     "output_type": "execute_result"
    }
   ],
   "source": [
    "1, 2"
   ]
  },
  {
   "cell_type": "code",
   "execution_count": 30,
   "id": "8afc1d5f",
   "metadata": {},
   "outputs": [
    {
     "data": {
      "text/plain": [
       "(1, 'zwei')"
      ]
     },
     "execution_count": 30,
     "metadata": {},
     "output_type": "execute_result"
    }
   ],
   "source": [
    "a, b"
   ]
  },
  {
   "cell_type": "code",
   "execution_count": 31,
   "id": "47e3a301",
   "metadata": {},
   "outputs": [],
   "source": [
    "tmp = a\n",
    "a = b\n",
    "b = tmp"
   ]
  },
  {
   "cell_type": "code",
   "execution_count": 32,
   "id": "d4cd4646",
   "metadata": {},
   "outputs": [
    {
     "data": {
      "text/plain": [
       "('zwei', 1)"
      ]
     },
     "execution_count": 32,
     "metadata": {},
     "output_type": "execute_result"
    }
   ],
   "source": [
    "a, b"
   ]
  },
  {
   "cell_type": "code",
   "execution_count": 33,
   "id": "5cfd699e",
   "metadata": {},
   "outputs": [],
   "source": [
    "a, b = b, a"
   ]
  },
  {
   "cell_type": "markdown",
   "id": "4fa252c1",
   "metadata": {},
   "source": [
    "### Mutable? Immutable?"
   ]
  },
  {
   "cell_type": "code",
   "execution_count": 34,
   "id": "80e66b40",
   "metadata": {},
   "outputs": [],
   "source": [
    "a = 42"
   ]
  },
  {
   "cell_type": "code",
   "execution_count": 35,
   "id": "2f33044f",
   "metadata": {},
   "outputs": [
    {
     "data": {
      "text/plain": [
       "140480285361680"
      ]
     },
     "execution_count": 35,
     "metadata": {},
     "output_type": "execute_result"
    }
   ],
   "source": [
    "id(a)"
   ]
  },
  {
   "cell_type": "code",
   "execution_count": 36,
   "id": "da4e3ce2",
   "metadata": {},
   "outputs": [],
   "source": [
    "b = a"
   ]
  },
  {
   "cell_type": "code",
   "execution_count": 37,
   "id": "57d4a5cf",
   "metadata": {},
   "outputs": [
    {
     "data": {
      "text/plain": [
       "140480285361680"
      ]
     },
     "execution_count": 37,
     "metadata": {},
     "output_type": "execute_result"
    }
   ],
   "source": [
    "id(b)"
   ]
  },
  {
   "cell_type": "code",
   "execution_count": 38,
   "id": "01ab6c7a",
   "metadata": {},
   "outputs": [],
   "source": [
    "a += 1"
   ]
  },
  {
   "cell_type": "code",
   "execution_count": 39,
   "id": "079cdf68",
   "metadata": {},
   "outputs": [
    {
     "data": {
      "text/plain": [
       "42"
      ]
     },
     "execution_count": 39,
     "metadata": {},
     "output_type": "execute_result"
    }
   ],
   "source": [
    "b"
   ]
  },
  {
   "cell_type": "code",
   "execution_count": 40,
   "id": "8eda3b97",
   "metadata": {},
   "outputs": [
    {
     "data": {
      "text/plain": [
       "43"
      ]
     },
     "execution_count": 40,
     "metadata": {},
     "output_type": "execute_result"
    }
   ],
   "source": [
    "a"
   ]
  },
  {
   "cell_type": "markdown",
   "id": "a78ace14",
   "metadata": {},
   "source": [
    "## Integers"
   ]
  },
  {
   "cell_type": "code",
   "execution_count": 41,
   "id": "54256126",
   "metadata": {},
   "outputs": [],
   "source": [
    "i = 2**64 - 1"
   ]
  },
  {
   "cell_type": "code",
   "execution_count": 42,
   "id": "6b07a307",
   "metadata": {},
   "outputs": [
    {
     "data": {
      "text/plain": [
       "18446744073709551615"
      ]
     },
     "execution_count": 42,
     "metadata": {},
     "output_type": "execute_result"
    }
   ],
   "source": [
    "i"
   ]
  },
  {
   "cell_type": "code",
   "execution_count": 43,
   "id": "dab5c8a5",
   "metadata": {},
   "outputs": [
    {
     "data": {
      "text/plain": [
       "'0xffffffffffffffff'"
      ]
     },
     "execution_count": 43,
     "metadata": {},
     "output_type": "execute_result"
    }
   ],
   "source": [
    "hex(i)"
   ]
  },
  {
   "cell_type": "code",
   "execution_count": 44,
   "id": "11f38f4a",
   "metadata": {},
   "outputs": [],
   "source": [
    "i += 1"
   ]
  },
  {
   "cell_type": "code",
   "execution_count": 45,
   "id": "cc2b0829",
   "metadata": {},
   "outputs": [
    {
     "data": {
      "text/plain": [
       "18446744073709551616"
      ]
     },
     "execution_count": 45,
     "metadata": {},
     "output_type": "execute_result"
    }
   ],
   "source": [
    "i"
   ]
  },
  {
   "cell_type": "code",
   "execution_count": 46,
   "id": "9781b3cc",
   "metadata": {},
   "outputs": [
    {
     "data": {
      "text/plain": [
       "'0x10000000000000000'"
      ]
     },
     "execution_count": 46,
     "metadata": {},
     "output_type": "execute_result"
    }
   ],
   "source": [
    "hex(i)"
   ]
  },
  {
   "cell_type": "code",
   "execution_count": 47,
   "id": "8caf1168",
   "metadata": {},
   "outputs": [],
   "source": [
    "i += 1"
   ]
  },
  {
   "cell_type": "code",
   "execution_count": 48,
   "id": "028ccc90",
   "metadata": {},
   "outputs": [],
   "source": [
    "i = 2**100"
   ]
  },
  {
   "cell_type": "code",
   "execution_count": 49,
   "id": "3933dc62",
   "metadata": {},
   "outputs": [
    {
     "data": {
      "text/plain": [
       "1267650600228229401496703205376"
      ]
     },
     "execution_count": 49,
     "metadata": {},
     "output_type": "execute_result"
    }
   ],
   "source": [
    "i"
   ]
  },
  {
   "cell_type": "code",
   "execution_count": 50,
   "id": "9adf584e",
   "metadata": {},
   "outputs": [
    {
     "data": {
      "text/plain": [
       "19950631168807583848837421626835850838234968318861924548520089498529438830221946631919961684036194597899331129423209124271556491349413781117593785932096323957855730046793794526765246551266059895520550086918193311542508608460618104685509074866089624888090489894838009253941633257850621568309473902556912388065225096643874441046759871626985453222868538161694315775629640762836880760732228535091641476183956381458969463899410840960536267821064621427333394036525565649530603142680234969400335934316651459297773279665775606172582031407994198179607378245683762280037302885487251900834464581454650557929601414833921615734588139257095379769119277800826957735674444123062018757836325502728323789270710373802866393031428133241401624195671690574061419654342324638801248856147305207431992259611796250130992860241708340807605932320161268492288496255841312844061536738951487114256315111089745514203313820202931640957596464756010405845841566072044962867016515061920631004186422275908670900574606417856951911456055068251250406007519842261898059237118054444788072906395242548339221982707404473162376760846613033778706039803413197133493654622700563169937455508241780972810983291314403571877524768509857276937926433221599399876886660808368837838027643282775172273657572744784112294389733810861607423253291974813120197604178281965697475898164531258434135959862784130128185406283476649088690521047580882615823961985770122407044330583075869039319604603404973156583208672105913300903752823415539745394397715257455290510212310947321610753474825740775273986348298498340756937955646638621874569499279016572103701364433135817214311791398222983845847334440270964182851005072927748364550578634501100852987812389473928699540834346158807043959118985815145779177143619698728131459483783202081474982171858011389071228250905826817436220577475921417653715687725614904582904992461028630081535583308130101987675856234343538955409175623400844887526162643568648833519463720377293240094456246923254350400678027273837755376406726898636241037491410966718557050759098100246789880178271925953381282421954028302759408448955014676668389697996886241636313376393903373455801407636741877711055384225739499110186468219696581651485130494222369947714763069155468217682876200362777257723781365331611196811280792669481887201298643660768551639860534602297871557517947385246369446923087894265948217008051120322365496288169035739121368338393591756418733850510970271613915439590991598154654417336311656936031122249937969999226781732358023111862644575299135758175008199839236284615249881088960232244362173771618086357015468484058622329792853875623486556440536962622018963571028812361567512543338303270029097668650568557157505516727518899194129711337690149916181315171544007728650573189557450920330185304847113818315407324053319038462084036421763703911550639789000742853672196280903477974533320468368795868580237952218629120080742819551317948157624448298518461509704888027274721574688131594750409732115080498190455803416826949787141316063210686391511681774304792596709376"
      ]
     },
     "execution_count": 50,
     "metadata": {},
     "output_type": "execute_result"
    }
   ],
   "source": [
    "2**10000"
   ]
  },
  {
   "cell_type": "code",
   "execution_count": 51,
   "id": "4923a8c0",
   "metadata": {},
   "outputs": [
    {
     "data": {
      "text/plain": [
       "1.5"
      ]
     },
     "execution_count": 51,
     "metadata": {},
     "output_type": "execute_result"
    }
   ],
   "source": [
    "3/2"
   ]
  },
  {
   "cell_type": "code",
   "execution_count": 52,
   "id": "3d152062",
   "metadata": {},
   "outputs": [
    {
     "data": {
      "text/plain": [
       "1"
      ]
     },
     "execution_count": 52,
     "metadata": {},
     "output_type": "execute_result"
    }
   ],
   "source": [
    "3//2"
   ]
  },
  {
   "cell_type": "code",
   "execution_count": 53,
   "id": "8065f107",
   "metadata": {},
   "outputs": [
    {
     "data": {
      "text/plain": [
       "0"
      ]
     },
     "execution_count": 53,
     "metadata": {},
     "output_type": "execute_result"
    }
   ],
   "source": [
    "10%2"
   ]
  },
  {
   "cell_type": "markdown",
   "id": "99a7eb50",
   "metadata": {},
   "source": [
    "## Lists"
   ]
  },
  {
   "cell_type": "code",
   "execution_count": 54,
   "id": "25921210",
   "metadata": {},
   "outputs": [],
   "source": [
    "l = list()\n",
    "l = []\n",
    "l = [1,2,3]"
   ]
  },
  {
   "cell_type": "code",
   "execution_count": 55,
   "id": "2191a759",
   "metadata": {},
   "outputs": [
    {
     "data": {
      "text/plain": [
       "3"
      ]
     },
     "execution_count": 55,
     "metadata": {},
     "output_type": "execute_result"
    }
   ],
   "source": [
    "len(l)"
   ]
  },
  {
   "cell_type": "code",
   "execution_count": 56,
   "id": "2210a149",
   "metadata": {},
   "outputs": [
    {
     "data": {
      "text/plain": [
       "140479638276224"
      ]
     },
     "execution_count": 56,
     "metadata": {},
     "output_type": "execute_result"
    }
   ],
   "source": [
    "id(l)"
   ]
  },
  {
   "cell_type": "code",
   "execution_count": 57,
   "id": "ab9f83ba",
   "metadata": {},
   "outputs": [
    {
     "data": {
      "text/plain": [
       "140479638276224"
      ]
     },
     "execution_count": 57,
     "metadata": {},
     "output_type": "execute_result"
    }
   ],
   "source": [
    "l.append('vier')\n",
    "id(l)"
   ]
  },
  {
   "cell_type": "code",
   "execution_count": 58,
   "id": "da0fa24c",
   "metadata": {},
   "outputs": [],
   "source": [
    "l.extend([5, 'sechs'])"
   ]
  },
  {
   "cell_type": "code",
   "execution_count": 59,
   "id": "8922e3e7",
   "metadata": {},
   "outputs": [
    {
     "data": {
      "text/plain": [
       "[1, 2, 3, 'vier', 5, 'sechs']"
      ]
     },
     "execution_count": 59,
     "metadata": {},
     "output_type": "execute_result"
    }
   ],
   "source": [
    "l"
   ]
  },
  {
   "cell_type": "code",
   "execution_count": 60,
   "id": "cdf2703d",
   "metadata": {},
   "outputs": [],
   "source": [
    "l.append([7, 'acht'])"
   ]
  },
  {
   "cell_type": "code",
   "execution_count": 61,
   "id": "5c2651a2",
   "metadata": {},
   "outputs": [
    {
     "data": {
      "text/plain": [
       "[1, 2, 3, 'vier', 5, 'sechs', [7, 'acht']]"
      ]
     },
     "execution_count": 61,
     "metadata": {},
     "output_type": "execute_result"
    }
   ],
   "source": [
    "l"
   ]
  },
  {
   "cell_type": "code",
   "execution_count": 62,
   "id": "3f6dc9cc",
   "metadata": {},
   "outputs": [],
   "source": [
    "l.append(l)"
   ]
  },
  {
   "cell_type": "code",
   "execution_count": 63,
   "id": "a9a944bf",
   "metadata": {},
   "outputs": [
    {
     "data": {
      "text/plain": [
       "[1, 2, 3, 'vier', 5, 'sechs', [7, 'acht'], [...]]"
      ]
     },
     "execution_count": 63,
     "metadata": {},
     "output_type": "execute_result"
    }
   ],
   "source": [
    "l"
   ]
  },
  {
   "cell_type": "code",
   "execution_count": 64,
   "id": "4680b248",
   "metadata": {},
   "outputs": [
    {
     "data": {
      "text/plain": [
       "2"
      ]
     },
     "execution_count": 64,
     "metadata": {},
     "output_type": "execute_result"
    }
   ],
   "source": [
    "l[1]"
   ]
  },
  {
   "cell_type": "code",
   "execution_count": 65,
   "id": "3df57ac9",
   "metadata": {},
   "outputs": [],
   "source": [
    "l[1] = 'zwei'"
   ]
  },
  {
   "cell_type": "code",
   "execution_count": 66,
   "id": "f48f7694",
   "metadata": {},
   "outputs": [
    {
     "data": {
      "text/plain": [
       "[1, 'zwei', 3, 'vier', 5, 'sechs', [7, 'acht'], [...]]"
      ]
     },
     "execution_count": 66,
     "metadata": {},
     "output_type": "execute_result"
    }
   ],
   "source": [
    "l"
   ]
  },
  {
   "cell_type": "code",
   "execution_count": 67,
   "id": "22c946da",
   "metadata": {},
   "outputs": [
    {
     "data": {
      "text/plain": [
       "True"
      ]
     },
     "execution_count": 67,
     "metadata": {},
     "output_type": "execute_result"
    }
   ],
   "source": [
    "'zwei' in l"
   ]
  },
  {
   "cell_type": "code",
   "execution_count": 68,
   "id": "f1ff81bb",
   "metadata": {},
   "outputs": [
    {
     "name": "stdout",
     "output_type": "stream",
     "text": [
      "yay\n"
     ]
    }
   ],
   "source": [
    "if 'zwei' in l:\n",
    "    print('yay')"
   ]
  },
  {
   "cell_type": "markdown",
   "id": "e60cfc82",
   "metadata": {},
   "source": [
    "## Tuples"
   ]
  },
  {
   "cell_type": "code",
   "execution_count": 69,
   "id": "a9eb3aaa",
   "metadata": {},
   "outputs": [],
   "source": [
    "t = (1,2,3)"
   ]
  },
  {
   "cell_type": "code",
   "execution_count": 70,
   "id": "98b54631",
   "metadata": {},
   "outputs": [
    {
     "data": {
      "text/plain": [
       "tuple"
      ]
     },
     "execution_count": 70,
     "metadata": {},
     "output_type": "execute_result"
    }
   ],
   "source": [
    "type(t)"
   ]
  },
  {
   "cell_type": "code",
   "execution_count": 71,
   "id": "2f9c4b60",
   "metadata": {},
   "outputs": [
    {
     "data": {
      "text/plain": [
       "140480203220736"
      ]
     },
     "execution_count": 71,
     "metadata": {},
     "output_type": "execute_result"
    }
   ],
   "source": [
    "id(t)"
   ]
  },
  {
   "cell_type": "code",
   "execution_count": 72,
   "id": "21a319cb",
   "metadata": {},
   "outputs": [
    {
     "data": {
      "text/plain": [
       "2"
      ]
     },
     "execution_count": 72,
     "metadata": {},
     "output_type": "execute_result"
    }
   ],
   "source": [
    "t[1]"
   ]
  },
  {
   "cell_type": "code",
   "execution_count": 73,
   "id": "8aabb4a3",
   "metadata": {},
   "outputs": [
    {
     "name": "stdout",
     "output_type": "stream",
     "text": [
      "'tuple' object does not support item assignment <class 'TypeError'>\n"
     ]
    }
   ],
   "source": [
    "try:\n",
    "    t[1] = 'zwei'\n",
    "except Exception as e:\n",
    "    print(e, type(e))"
   ]
  },
  {
   "cell_type": "code",
   "execution_count": 74,
   "id": "94d31db8",
   "metadata": {},
   "outputs": [
    {
     "name": "stdout",
     "output_type": "stream",
     "text": [
      "'tuple' object has no attribute 'append' <class 'AttributeError'>\n"
     ]
    }
   ],
   "source": [
    "try:\n",
    "    t.append('vier')\n",
    "except Exception as e:\n",
    "    print(e, type(e))"
   ]
  },
  {
   "cell_type": "code",
   "execution_count": 75,
   "id": "f8b33616",
   "metadata": {},
   "outputs": [],
   "source": [
    "t += (1,2,3)"
   ]
  },
  {
   "cell_type": "code",
   "execution_count": 76,
   "id": "7fade96a",
   "metadata": {},
   "outputs": [
    {
     "data": {
      "text/plain": [
       "140480210406176"
      ]
     },
     "execution_count": 76,
     "metadata": {},
     "output_type": "execute_result"
    }
   ],
   "source": [
    "id(t)"
   ]
  },
  {
   "cell_type": "markdown",
   "id": "d29776e5",
   "metadata": {},
   "source": [
    "## Dictionary"
   ]
  },
  {
   "cell_type": "code",
   "execution_count": 77,
   "id": "05f592ef",
   "metadata": {},
   "outputs": [],
   "source": [
    "d = { 'one': 1, 'two': 2 }"
   ]
  },
  {
   "cell_type": "code",
   "execution_count": 78,
   "id": "1732e607",
   "metadata": {},
   "outputs": [
    {
     "data": {
      "text/plain": [
       "2"
      ]
     },
     "execution_count": 78,
     "metadata": {},
     "output_type": "execute_result"
    }
   ],
   "source": [
    "len(d)"
   ]
  },
  {
   "cell_type": "code",
   "execution_count": 79,
   "id": "1febd4f7",
   "metadata": {},
   "outputs": [
    {
     "data": {
      "text/plain": [
       "1"
      ]
     },
     "execution_count": 79,
     "metadata": {},
     "output_type": "execute_result"
    }
   ],
   "source": [
    "d['one']"
   ]
  },
  {
   "cell_type": "code",
   "execution_count": 80,
   "id": "fa59ab4e",
   "metadata": {},
   "outputs": [],
   "source": [
    "d['drei'] = 'three'"
   ]
  },
  {
   "cell_type": "code",
   "execution_count": 81,
   "id": "6076a6b7",
   "metadata": {},
   "outputs": [
    {
     "data": {
      "text/plain": [
       "'three'"
      ]
     },
     "execution_count": 81,
     "metadata": {},
     "output_type": "execute_result"
    }
   ],
   "source": [
    "d['drei']"
   ]
  },
  {
   "cell_type": "code",
   "execution_count": 82,
   "id": "e872526b",
   "metadata": {},
   "outputs": [],
   "source": [
    "d[4] = 'vier'"
   ]
  },
  {
   "cell_type": "code",
   "execution_count": 83,
   "id": "87b45f66",
   "metadata": {},
   "outputs": [
    {
     "data": {
      "text/plain": [
       "4"
      ]
     },
     "execution_count": 83,
     "metadata": {},
     "output_type": "execute_result"
    }
   ],
   "source": [
    "hash(4)"
   ]
  },
  {
   "cell_type": "code",
   "execution_count": 84,
   "id": "064fb919",
   "metadata": {},
   "outputs": [
    {
     "data": {
      "text/plain": [
       "-7940943354778932823"
      ]
     },
     "execution_count": 84,
     "metadata": {},
     "output_type": "execute_result"
    }
   ],
   "source": [
    "hash('drei')"
   ]
  },
  {
   "cell_type": "code",
   "execution_count": 85,
   "id": "4f36ea92",
   "metadata": {},
   "outputs": [
    {
     "name": "stdout",
     "output_type": "stream",
     "text": [
      "unhashable type: 'list' <class 'TypeError'>\n"
     ]
    }
   ],
   "source": [
    "try:\n",
    "    d[[1,2,3]] = True\n",
    "except Exception as e:\n",
    "    print(e, type(e))"
   ]
  },
  {
   "cell_type": "code",
   "execution_count": 86,
   "id": "46a535ce",
   "metadata": {},
   "outputs": [
    {
     "data": {
      "text/plain": [
       "{'one': 1, 'two': 2, 'drei': 'three', 4: 'vier'}"
      ]
     },
     "execution_count": 86,
     "metadata": {},
     "output_type": "execute_result"
    }
   ],
   "source": [
    "d"
   ]
  },
  {
   "cell_type": "code",
   "execution_count": 87,
   "id": "7dc79921",
   "metadata": {},
   "outputs": [
    {
     "data": {
      "text/plain": [
       "4"
      ]
     },
     "execution_count": 87,
     "metadata": {},
     "output_type": "execute_result"
    }
   ],
   "source": [
    "len(d)"
   ]
  },
  {
   "cell_type": "code",
   "execution_count": 88,
   "id": "907b0f94",
   "metadata": {},
   "outputs": [
    {
     "data": {
      "text/plain": [
       "True"
      ]
     },
     "execution_count": 88,
     "metadata": {},
     "output_type": "execute_result"
    }
   ],
   "source": [
    "'two' in d"
   ]
  },
  {
   "cell_type": "code",
   "execution_count": 89,
   "id": "12a1535b",
   "metadata": {},
   "outputs": [],
   "source": [
    "del d['two']"
   ]
  },
  {
   "cell_type": "code",
   "execution_count": 90,
   "id": "e3c57bde",
   "metadata": {},
   "outputs": [
    {
     "data": {
      "text/plain": [
       "False"
      ]
     },
     "execution_count": 90,
     "metadata": {},
     "output_type": "execute_result"
    }
   ],
   "source": [
    "'two' in d"
   ]
  },
  {
   "cell_type": "markdown",
   "id": "2cfa0b3c",
   "metadata": {},
   "source": [
    "Search by value?"
   ]
  },
  {
   "cell_type": "code",
   "execution_count": 91,
   "id": "12028257",
   "metadata": {},
   "outputs": [
    {
     "name": "stdout",
     "output_type": "stream",
     "text": [
      "one\n"
     ]
    }
   ],
   "source": [
    "for k, v in d.items():\n",
    "    if v == 1:\n",
    "        print(k)"
   ]
  },
  {
   "cell_type": "markdown",
   "id": "5c41416f",
   "metadata": {},
   "source": [
    "## Exercises"
   ]
  },
  {
   "cell_type": "code",
   "execution_count": 92,
   "id": "861ef53a",
   "metadata": {},
   "outputs": [],
   "source": [
    "l = []"
   ]
  },
  {
   "cell_type": "code",
   "execution_count": 93,
   "id": "4a02d174",
   "metadata": {},
   "outputs": [],
   "source": [
    "l.append(True)"
   ]
  },
  {
   "cell_type": "code",
   "execution_count": 94,
   "id": "d81c754f",
   "metadata": {},
   "outputs": [
    {
     "data": {
      "text/plain": [
       "[True]"
      ]
     },
     "execution_count": 94,
     "metadata": {},
     "output_type": "execute_result"
    }
   ],
   "source": [
    "l"
   ]
  },
  {
   "cell_type": "code",
   "execution_count": 95,
   "id": "b2595aad",
   "metadata": {},
   "outputs": [],
   "source": [
    "s = '99'"
   ]
  },
  {
   "cell_type": "code",
   "execution_count": 96,
   "id": "d5976999",
   "metadata": {},
   "outputs": [],
   "source": [
    "i = int(s)"
   ]
  },
  {
   "cell_type": "code",
   "execution_count": 97,
   "id": "dd70058d",
   "metadata": {},
   "outputs": [
    {
     "data": {
      "text/plain": [
       "99"
      ]
     },
     "execution_count": 97,
     "metadata": {},
     "output_type": "execute_result"
    }
   ],
   "source": [
    "i"
   ]
  },
  {
   "cell_type": "markdown",
   "id": "12d2f661",
   "metadata": {},
   "source": [
    "## DataType Conversiosn"
   ]
  },
  {
   "cell_type": "code",
   "execution_count": 98,
   "id": "de97d466",
   "metadata": {},
   "outputs": [],
   "source": [
    "s = '123'"
   ]
  },
  {
   "cell_type": "code",
   "execution_count": 99,
   "id": "94b4b39f",
   "metadata": {},
   "outputs": [],
   "source": [
    "i = int(s)"
   ]
  },
  {
   "cell_type": "code",
   "execution_count": 100,
   "id": "0f0bcd12",
   "metadata": {},
   "outputs": [
    {
     "name": "stdout",
     "output_type": "stream",
     "text": [
      "<class 'int'>\n"
     ]
    }
   ],
   "source": [
    "print(type(i))"
   ]
  },
  {
   "cell_type": "code",
   "execution_count": 101,
   "id": "61d4de1b",
   "metadata": {},
   "outputs": [
    {
     "data": {
      "text/plain": [
       "123"
      ]
     },
     "execution_count": 101,
     "metadata": {},
     "output_type": "execute_result"
    }
   ],
   "source": [
    "i"
   ]
  },
  {
   "cell_type": "code",
   "execution_count": 102,
   "id": "2ffda96b",
   "metadata": {},
   "outputs": [],
   "source": [
    "s = 'abc'"
   ]
  },
  {
   "cell_type": "code",
   "execution_count": 103,
   "id": "29cf324e",
   "metadata": {},
   "outputs": [
    {
     "name": "stdout",
     "output_type": "stream",
     "text": [
      "invalid literal for int() with base 10: 'abc' <class 'ValueError'>\n"
     ]
    }
   ],
   "source": [
    "try:\n",
    "    int(s)\n",
    "except Exception as e:\n",
    "    print(e, type(e))"
   ]
  },
  {
   "cell_type": "code",
   "execution_count": 104,
   "id": "08762537",
   "metadata": {},
   "outputs": [
    {
     "data": {
      "text/plain": [
       "2748"
      ]
     },
     "execution_count": 104,
     "metadata": {},
     "output_type": "execute_result"
    }
   ],
   "source": [
    "int(s, 16)"
   ]
  },
  {
   "cell_type": "code",
   "execution_count": 105,
   "id": "289d81c9",
   "metadata": {},
   "outputs": [
    {
     "data": {
      "text/plain": [
       "123"
      ]
     },
     "execution_count": 105,
     "metadata": {},
     "output_type": "execute_result"
    }
   ],
   "source": [
    "i"
   ]
  },
  {
   "cell_type": "code",
   "execution_count": 106,
   "id": "2c413162",
   "metadata": {},
   "outputs": [],
   "source": [
    "s = str(i)"
   ]
  },
  {
   "cell_type": "code",
   "execution_count": 107,
   "id": "35b96581",
   "metadata": {},
   "outputs": [
    {
     "name": "stdout",
     "output_type": "stream",
     "text": [
      "<class 'str'>\n"
     ]
    }
   ],
   "source": [
    "print(type(s))"
   ]
  },
  {
   "cell_type": "code",
   "execution_count": 108,
   "id": "530b263d",
   "metadata": {},
   "outputs": [
    {
     "name": "stdout",
     "output_type": "stream",
     "text": [
      "<class 'list'>\n"
     ]
    }
   ],
   "source": [
    "l = [1,2,3, 'vier']\n",
    "print(type(l))"
   ]
  },
  {
   "cell_type": "code",
   "execution_count": 109,
   "id": "560e1116",
   "metadata": {},
   "outputs": [
    {
     "data": {
      "text/plain": [
       "'123'"
      ]
     },
     "execution_count": 109,
     "metadata": {},
     "output_type": "execute_result"
    }
   ],
   "source": [
    "s"
   ]
  },
  {
   "cell_type": "code",
   "execution_count": 110,
   "id": "a2d4cc21",
   "metadata": {},
   "outputs": [
    {
     "data": {
      "text/plain": [
       "'2'"
      ]
     },
     "execution_count": 110,
     "metadata": {},
     "output_type": "execute_result"
    }
   ],
   "source": [
    "s[1]"
   ]
  },
  {
   "cell_type": "code",
   "execution_count": 111,
   "id": "45abf5dd",
   "metadata": {},
   "outputs": [
    {
     "data": {
      "text/plain": [
       "[]"
      ]
     },
     "execution_count": 111,
     "metadata": {},
     "output_type": "execute_result"
    }
   ],
   "source": [
    "list()"
   ]
  },
  {
   "cell_type": "code",
   "execution_count": 112,
   "id": "cda4fb1b",
   "metadata": {},
   "outputs": [
    {
     "data": {
      "text/plain": [
       "['a', 'b', 'c']"
      ]
     },
     "execution_count": 112,
     "metadata": {},
     "output_type": "execute_result"
    }
   ],
   "source": [
    "list('abc')"
   ]
  },
  {
   "cell_type": "code",
   "execution_count": 113,
   "id": "1779cac6",
   "metadata": {},
   "outputs": [
    {
     "name": "stdout",
     "output_type": "stream",
     "text": [
      "'int' object is not iterable <class 'str'>\n"
     ]
    }
   ],
   "source": [
    "try:\n",
    "    list(666)\n",
    "except Exception as e:\n",
    "    print(e, type(s))"
   ]
  },
  {
   "cell_type": "code",
   "execution_count": 114,
   "id": "e6b19272",
   "metadata": {},
   "outputs": [
    {
     "data": {
      "text/plain": [
       "['abc']"
      ]
     },
     "execution_count": 114,
     "metadata": {},
     "output_type": "execute_result"
    }
   ],
   "source": [
    "l = list()\n",
    "l.append('abc')\n",
    "l"
   ]
  },
  {
   "cell_type": "code",
   "execution_count": 115,
   "id": "0ecc96d0",
   "metadata": {},
   "outputs": [
    {
     "data": {
      "text/plain": [
       "['abc']"
      ]
     },
     "execution_count": 115,
     "metadata": {},
     "output_type": "execute_result"
    }
   ],
   "source": [
    "list(['abc'])"
   ]
  },
  {
   "cell_type": "code",
   "execution_count": 116,
   "id": "faf85c65",
   "metadata": {},
   "outputs": [
    {
     "data": {
      "text/plain": [
       "['abc']"
      ]
     },
     "execution_count": 116,
     "metadata": {},
     "output_type": "execute_result"
    }
   ],
   "source": [
    "['abc']"
   ]
  },
  {
   "cell_type": "code",
   "execution_count": 117,
   "id": "e1bea29d",
   "metadata": {},
   "outputs": [],
   "source": [
    "l = list(range(3))"
   ]
  },
  {
   "cell_type": "code",
   "execution_count": 118,
   "id": "51dedd50",
   "metadata": {},
   "outputs": [
    {
     "data": {
      "text/plain": [
       "[0, 1, 2]"
      ]
     },
     "execution_count": 118,
     "metadata": {},
     "output_type": "execute_result"
    }
   ],
   "source": [
    "l"
   ]
  },
  {
   "cell_type": "code",
   "execution_count": 119,
   "id": "770edead",
   "metadata": {},
   "outputs": [
    {
     "name": "stdout",
     "output_type": "stream",
     "text": [
      "0\n",
      "1\n",
      "2\n"
     ]
    }
   ],
   "source": [
    "for element in l:\n",
    "    print(element)"
   ]
  },
  {
   "cell_type": "code",
   "execution_count": 120,
   "id": "6eee553d",
   "metadata": {},
   "outputs": [
    {
     "data": {
      "text/plain": [
       "True"
      ]
     },
     "execution_count": 120,
     "metadata": {},
     "output_type": "execute_result"
    }
   ],
   "source": [
    "1 in l"
   ]
  },
  {
   "cell_type": "code",
   "execution_count": 121,
   "id": "6d29edc5",
   "metadata": {},
   "outputs": [
    {
     "data": {
      "text/plain": [
       "True"
      ]
     },
     "execution_count": 121,
     "metadata": {},
     "output_type": "execute_result"
    }
   ],
   "source": [
    "2 in l"
   ]
  },
  {
   "cell_type": "code",
   "execution_count": 122,
   "id": "5a519568",
   "metadata": {},
   "outputs": [
    {
     "data": {
      "text/plain": [
       "False"
      ]
     },
     "execution_count": 122,
     "metadata": {},
     "output_type": "execute_result"
    }
   ],
   "source": [
    "3 in l"
   ]
  },
  {
   "cell_type": "markdown",
   "id": "32f1a712",
   "metadata": {},
   "source": [
    "## ``if``"
   ]
  },
  {
   "cell_type": "code",
   "execution_count": 123,
   "id": "4ac34278",
   "metadata": {},
   "outputs": [],
   "source": [
    "i = 2"
   ]
  },
  {
   "cell_type": "code",
   "execution_count": 124,
   "id": "23b430c2",
   "metadata": {},
   "outputs": [
    {
     "name": "stdout",
     "output_type": "stream",
     "text": [
      "yay\n"
     ]
    }
   ],
   "source": [
    "if i == 2:\n",
    "    print('yay')"
   ]
  },
  {
   "cell_type": "code",
   "execution_count": 125,
   "id": "ead4c23d",
   "metadata": {},
   "outputs": [],
   "source": [
    "if i == 3:\n",
    "    print('yay')"
   ]
  },
  {
   "cell_type": "markdown",
   "id": "be139b73",
   "metadata": {},
   "source": [
    "## ``while``"
   ]
  },
  {
   "cell_type": "markdown",
   "id": "b4e1c714",
   "metadata": {},
   "source": [
    "sum of numbers 1..100"
   ]
  },
  {
   "cell_type": "code",
   "execution_count": 128,
   "id": "b86e3277",
   "metadata": {},
   "outputs": [
    {
     "data": {
      "text/plain": [
       "5050"
      ]
     },
     "execution_count": 128,
     "metadata": {},
     "output_type": "execute_result"
    }
   ],
   "source": [
    "summe = 0\n",
    "number = 1\n",
    "while number <= 100:\n",
    "    summe += number\n",
    "    number += 1\n",
    "summe"
   ]
  },
  {
   "cell_type": "code",
   "execution_count": 129,
   "id": "f0b9294b",
   "metadata": {},
   "outputs": [
    {
     "data": {
      "text/plain": [
       "5050"
      ]
     },
     "execution_count": 129,
     "metadata": {},
     "output_type": "execute_result"
    }
   ],
   "source": [
    "sum(range(1, 101))"
   ]
  },
  {
   "cell_type": "code",
   "execution_count": 130,
   "id": "32fbb6c3",
   "metadata": {},
   "outputs": [],
   "source": [
    "i = 42\n",
    "while i != 42:\n",
    "    print('noch immer keine antwort')"
   ]
  },
  {
   "cell_type": "code",
   "execution_count": 133,
   "id": "ad000eb8",
   "metadata": {},
   "outputs": [],
   "source": [
    "import random"
   ]
  },
  {
   "cell_type": "code",
   "execution_count": 144,
   "id": "46251e12",
   "metadata": {},
   "outputs": [
    {
     "name": "stdout",
     "output_type": "stream",
     "text": [
      "mist: 4\n",
      "hooray!\n"
     ]
    }
   ],
   "source": [
    "while True:\n",
    "    eyes = random.randrange(1, 7)\n",
    "    if eyes == 6:\n",
    "        print('hooray!')\n",
    "        break\n",
    "    else:\n",
    "        print('mist:', eyes)    "
   ]
  },
  {
   "cell_type": "code",
   "execution_count": 165,
   "id": "3ecc1261",
   "metadata": {},
   "outputs": [
    {
     "name": "stdout",
     "output_type": "stream",
     "text": [
      "versager!\n"
     ]
    }
   ],
   "source": [
    "n_tries = 0\n",
    "while n_tries < 6:\n",
    "    eyes = random.randrange(1, 7)\n",
    "    if eyes == 6:\n",
    "        print('hooray!')\n",
    "        break\n",
    "    n_tries += 1\n",
    "else:\n",
    "    print('versager!')"
   ]
  },
  {
   "cell_type": "markdown",
   "id": "b333d259",
   "metadata": {},
   "source": [
    "## ``range()``"
   ]
  },
  {
   "cell_type": "code",
   "execution_count": 167,
   "id": "b14718ab",
   "metadata": {},
   "outputs": [
    {
     "name": "stdout",
     "output_type": "stream",
     "text": [
      "0\n",
      "1\n",
      "2\n",
      "3\n",
      "4\n"
     ]
    }
   ],
   "source": [
    "for element in range(5):\n",
    "    print(element)"
   ]
  },
  {
   "cell_type": "code",
   "execution_count": 173,
   "id": "48aa4cc9",
   "metadata": {},
   "outputs": [
    {
     "name": "stdout",
     "output_type": "stream",
     "text": [
      "0\n",
      "1\n",
      "2\n",
      "3\n",
      "4\n"
     ]
    }
   ],
   "source": [
    "for element in [0,1,2,3,4]:\n",
    "    print(element)"
   ]
  },
  {
   "cell_type": "code",
   "execution_count": 179,
   "id": "9d8bf141",
   "metadata": {},
   "outputs": [],
   "source": [
    "r = range(5)"
   ]
  },
  {
   "cell_type": "code",
   "execution_count": 180,
   "id": "bc930a12",
   "metadata": {},
   "outputs": [
    {
     "data": {
      "text/plain": [
       "range(0, 5)"
      ]
     },
     "execution_count": 180,
     "metadata": {},
     "output_type": "execute_result"
    }
   ],
   "source": [
    "r"
   ]
  },
  {
   "cell_type": "code",
   "execution_count": 181,
   "id": "4304a3ba",
   "metadata": {},
   "outputs": [],
   "source": [
    "it = iter(r)"
   ]
  },
  {
   "cell_type": "code",
   "execution_count": 183,
   "id": "5d8d8976",
   "metadata": {},
   "outputs": [
    {
     "data": {
      "text/plain": [
       "<range_iterator at 0x7fc4189e7c90>"
      ]
     },
     "execution_count": 183,
     "metadata": {},
     "output_type": "execute_result"
    }
   ],
   "source": [
    "it"
   ]
  },
  {
   "cell_type": "code",
   "execution_count": 184,
   "id": "e26a451b",
   "metadata": {},
   "outputs": [
    {
     "data": {
      "text/plain": [
       "0"
      ]
     },
     "execution_count": 184,
     "metadata": {},
     "output_type": "execute_result"
    }
   ],
   "source": [
    "next(it)"
   ]
  },
  {
   "cell_type": "code",
   "execution_count": 185,
   "id": "277626cd",
   "metadata": {},
   "outputs": [
    {
     "data": {
      "text/plain": [
       "1"
      ]
     },
     "execution_count": 185,
     "metadata": {},
     "output_type": "execute_result"
    }
   ],
   "source": [
    "next(it)"
   ]
  },
  {
   "cell_type": "code",
   "execution_count": 186,
   "id": "5dc6665e",
   "metadata": {},
   "outputs": [
    {
     "data": {
      "text/plain": [
       "2"
      ]
     },
     "execution_count": 186,
     "metadata": {},
     "output_type": "execute_result"
    }
   ],
   "source": [
    "next(it)"
   ]
  },
  {
   "cell_type": "code",
   "execution_count": 187,
   "id": "51d38d34",
   "metadata": {},
   "outputs": [
    {
     "data": {
      "text/plain": [
       "3"
      ]
     },
     "execution_count": 187,
     "metadata": {},
     "output_type": "execute_result"
    }
   ],
   "source": [
    "next(it)"
   ]
  },
  {
   "cell_type": "code",
   "execution_count": 188,
   "id": "d0fe9587",
   "metadata": {},
   "outputs": [
    {
     "data": {
      "text/plain": [
       "4"
      ]
     },
     "execution_count": 188,
     "metadata": {},
     "output_type": "execute_result"
    }
   ],
   "source": [
    "next(it)"
   ]
  },
  {
   "cell_type": "code",
   "execution_count": 190,
   "id": "2a7bc56f",
   "metadata": {},
   "outputs": [
    {
     "name": "stdout",
     "output_type": "stream",
     "text": [
      " <class 'StopIteration'>\n"
     ]
    }
   ],
   "source": [
    "try:\n",
    "    next(it)\n",
    "except Exception as e:\n",
    "    print(e, type(e))"
   ]
  },
  {
   "cell_type": "markdown",
   "id": "e63bbfff",
   "metadata": {},
   "source": [
    "## ``datetime``"
   ]
  },
  {
   "cell_type": "code",
   "execution_count": 217,
   "id": "5a993826",
   "metadata": {},
   "outputs": [],
   "source": [
    "import datetime"
   ]
  },
  {
   "cell_type": "code",
   "execution_count": 192,
   "id": "6f143a03",
   "metadata": {},
   "outputs": [],
   "source": [
    "start = datetime.datetime(year=2023, month=3, day=13, hour=9)"
   ]
  },
  {
   "cell_type": "code",
   "execution_count": 194,
   "id": "f21f9555",
   "metadata": {},
   "outputs": [
    {
     "data": {
      "text/plain": [
       "datetime.datetime(2023, 3, 13, 9, 0)"
      ]
     },
     "execution_count": 194,
     "metadata": {},
     "output_type": "execute_result"
    }
   ],
   "source": [
    "start"
   ]
  },
  {
   "cell_type": "code",
   "execution_count": 196,
   "id": "12ed952b",
   "metadata": {},
   "outputs": [],
   "source": [
    "step = datetime.timedelta(hours=8)"
   ]
  },
  {
   "cell_type": "code",
   "execution_count": 198,
   "id": "b8559371",
   "metadata": {},
   "outputs": [
    {
     "data": {
      "text/plain": [
       "datetime.timedelta(seconds=28800)"
      ]
     },
     "execution_count": 198,
     "metadata": {},
     "output_type": "execute_result"
    }
   ],
   "source": [
    "step"
   ]
  },
  {
   "cell_type": "code",
   "execution_count": 199,
   "id": "d7e937c6",
   "metadata": {},
   "outputs": [],
   "source": [
    "start += step"
   ]
  },
  {
   "cell_type": "code",
   "execution_count": 201,
   "id": "a4ec46da",
   "metadata": {},
   "outputs": [
    {
     "data": {
      "text/plain": [
       "datetime.datetime(2023, 3, 13, 17, 0)"
      ]
     },
     "execution_count": 201,
     "metadata": {},
     "output_type": "execute_result"
    }
   ],
   "source": [
    "start"
   ]
  },
  {
   "cell_type": "code",
   "execution_count": 202,
   "id": "d459b9ca",
   "metadata": {},
   "outputs": [],
   "source": [
    "start += datetime.timedelta(days=1)"
   ]
  },
  {
   "cell_type": "code",
   "execution_count": 204,
   "id": "2fd88547",
   "metadata": {},
   "outputs": [
    {
     "data": {
      "text/plain": [
       "datetime.datetime(2023, 3, 14, 17, 0)"
      ]
     },
     "execution_count": 204,
     "metadata": {},
     "output_type": "execute_result"
    }
   ],
   "source": [
    "start"
   ]
  },
  {
   "cell_type": "code",
   "execution_count": 210,
   "id": "014b1a38",
   "metadata": {},
   "outputs": [
    {
     "data": {
      "text/plain": [
       "datetime.datetime(2023, 3, 14, 10, 6, 17, 237988)"
      ]
     },
     "execution_count": 210,
     "metadata": {},
     "output_type": "execute_result"
    }
   ],
   "source": [
    "datetime.datetime.now()"
   ]
  },
  {
   "cell_type": "code",
   "execution_count": 215,
   "id": "13bb3b5f",
   "metadata": {},
   "outputs": [],
   "source": [
    "def produce_days(start):\n",
    "    next = start\n",
    "    while True:\n",
    "        yield next\n",
    "        next += datetime.timedelta(days=1)"
   ]
  },
  {
   "cell_type": "code",
   "execution_count": 216,
   "id": "9a36d85a",
   "metadata": {},
   "outputs": [
    {
     "name": "stdout",
     "output_type": "stream",
     "text": [
      "2023-03-14 10:11:25.374557\n",
      "2023-03-15 10:11:25.374557\n",
      "2023-03-16 10:11:25.374557\n",
      "2023-03-17 10:11:25.374557\n",
      "2023-03-18 10:11:25.374557\n",
      "2023-03-19 10:11:25.374557\n",
      "2023-03-20 10:11:25.374557\n",
      "2023-03-21 10:11:25.374557\n",
      "2023-03-22 10:11:25.374557\n",
      "2023-03-23 10:11:25.374557\n",
      "2023-03-24 10:11:25.374557\n",
      "2023-03-25 10:11:25.374557\n",
      "2023-03-26 10:11:25.374557\n",
      "2023-03-27 10:11:25.374557\n",
      "2023-03-28 10:11:25.374557\n",
      "2023-03-29 10:11:25.374557\n",
      "2023-03-30 10:11:25.374557\n",
      "2023-03-31 10:11:25.374557\n",
      "2023-04-01 10:11:25.374557\n"
     ]
    }
   ],
   "source": [
    "for day in produce_days(start=datetime.datetime.now()):\n",
    "    print(day)\n",
    "    if day > datetime.datetime(year=2023, month=4, day=1):\n",
    "        break"
   ]
  },
  {
   "cell_type": "code",
   "execution_count": 218,
   "id": "b10e6b93",
   "metadata": {},
   "outputs": [],
   "source": [
    "l = [666, 42]\n",
    "i = 42"
   ]
  },
  {
   "cell_type": "code",
   "execution_count": 220,
   "id": "bf2dba38",
   "metadata": {},
   "outputs": [
    {
     "data": {
      "text/plain": [
       "True"
      ]
     },
     "execution_count": 220,
     "metadata": {},
     "output_type": "execute_result"
    }
   ],
   "source": [
    "i != l"
   ]
  },
  {
   "cell_type": "code",
   "execution_count": 221,
   "id": "d80e3540",
   "metadata": {},
   "outputs": [
    {
     "data": {
      "text/plain": [
       "True"
      ]
     },
     "execution_count": 221,
     "metadata": {},
     "output_type": "execute_result"
    }
   ],
   "source": [
    "i in l"
   ]
  },
  {
   "cell_type": "code",
   "execution_count": 223,
   "id": "7f4a1e63",
   "metadata": {},
   "outputs": [
    {
     "data": {
      "text/plain": [
       "False"
      ]
     },
     "execution_count": 223,
     "metadata": {},
     "output_type": "execute_result"
    }
   ],
   "source": [
    "i not in l"
   ]
  },
  {
   "cell_type": "code",
   "execution_count": 224,
   "id": "260cbd3c",
   "metadata": {},
   "outputs": [
    {
     "data": {
      "text/plain": [
       "False"
      ]
     },
     "execution_count": 224,
     "metadata": {},
     "output_type": "execute_result"
    }
   ],
   "source": [
    "not i in l"
   ]
  },
  {
   "cell_type": "code",
   "execution_count": 225,
   "id": "6d45cccb",
   "metadata": {},
   "outputs": [
    {
     "data": {
      "text/plain": [
       "0"
      ]
     },
     "execution_count": 225,
     "metadata": {},
     "output_type": "execute_result"
    }
   ],
   "source": [
    "6 % 3"
   ]
  },
  {
   "cell_type": "code",
   "execution_count": 226,
   "id": "b3741ae2",
   "metadata": {},
   "outputs": [
    {
     "data": {
      "text/plain": [
       "0"
      ]
     },
     "execution_count": 226,
     "metadata": {},
     "output_type": "execute_result"
    }
   ],
   "source": [
    "6 % 2"
   ]
  },
  {
   "cell_type": "code",
   "execution_count": 227,
   "id": "9e40b47c",
   "metadata": {},
   "outputs": [
    {
     "data": {
      "text/plain": [
       "1"
      ]
     },
     "execution_count": 227,
     "metadata": {},
     "output_type": "execute_result"
    }
   ],
   "source": [
    "7 % 2"
   ]
  },
  {
   "cell_type": "code",
   "execution_count": 228,
   "id": "5c97b247",
   "metadata": {},
   "outputs": [
    {
     "data": {
      "text/plain": [
       "1"
      ]
     },
     "execution_count": 228,
     "metadata": {},
     "output_type": "execute_result"
    }
   ],
   "source": [
    "7 % 3"
   ]
  },
  {
   "cell_type": "code",
   "execution_count": 229,
   "id": "c6902205",
   "metadata": {},
   "outputs": [
    {
     "data": {
      "text/plain": [
       "3"
      ]
     },
     "execution_count": 229,
     "metadata": {},
     "output_type": "execute_result"
    }
   ],
   "source": [
    "7 % 4"
   ]
  },
  {
   "cell_type": "code",
   "execution_count": 230,
   "id": "5e58cc88",
   "metadata": {},
   "outputs": [
    {
     "data": {
      "text/plain": [
       "2"
      ]
     },
     "execution_count": 230,
     "metadata": {},
     "output_type": "execute_result"
    }
   ],
   "source": [
    "7 % 5"
   ]
  },
  {
   "cell_type": "code",
   "execution_count": 231,
   "id": "a6ed81dc",
   "metadata": {},
   "outputs": [
    {
     "data": {
      "text/plain": [
       "1"
      ]
     },
     "execution_count": 231,
     "metadata": {},
     "output_type": "execute_result"
    }
   ],
   "source": [
    "7 % 6"
   ]
  },
  {
   "cell_type": "markdown",
   "id": "b7d3f66b",
   "metadata": {},
   "source": [
    "## Comprehensions"
   ]
  },
  {
   "cell_type": "code",
   "execution_count": 233,
   "id": "5d1ea0d6",
   "metadata": {},
   "outputs": [],
   "source": [
    "l = [3, 4, 1, 6]"
   ]
  },
  {
   "cell_type": "code",
   "execution_count": 235,
   "id": "a67b9429",
   "metadata": {},
   "outputs": [
    {
     "data": {
      "text/plain": [
       "[6, 8, 2, 12]"
      ]
     },
     "execution_count": 235,
     "metadata": {},
     "output_type": "execute_result"
    }
   ],
   "source": [
    "l_mal_2 = []\n",
    "for element in l:\n",
    "    l_mal_2.append(element*2)\n",
    "l_mal_2"
   ]
  },
  {
   "cell_type": "code",
   "execution_count": 238,
   "id": "7c53a67e",
   "metadata": {},
   "outputs": [
    {
     "data": {
      "text/plain": [
       "[6, 8, 2, 12]"
      ]
     },
     "execution_count": 238,
     "metadata": {},
     "output_type": "execute_result"
    }
   ],
   "source": [
    "[element*2 for element in l]"
   ]
  },
  {
   "cell_type": "code",
   "execution_count": 239,
   "id": "b9894165",
   "metadata": {},
   "outputs": [
    {
     "data": {
      "text/plain": [
       "[8, 12]"
      ]
     },
     "execution_count": 239,
     "metadata": {},
     "output_type": "execute_result"
    }
   ],
   "source": [
    "[element*2 for element in l if element%2==0]"
   ]
  },
  {
   "cell_type": "markdown",
   "id": "930a2a2e",
   "metadata": {},
   "source": [
    "## References, (Im)mutability"
   ]
  },
  {
   "cell_type": "code",
   "execution_count": 248,
   "id": "112885cc",
   "metadata": {},
   "outputs": [],
   "source": [
    "a = 42"
   ]
  },
  {
   "cell_type": "code",
   "execution_count": 249,
   "id": "4499e05f",
   "metadata": {},
   "outputs": [
    {
     "data": {
      "text/plain": [
       "140480285361680"
      ]
     },
     "execution_count": 249,
     "metadata": {},
     "output_type": "execute_result"
    }
   ],
   "source": [
    "id(a)"
   ]
  },
  {
   "cell_type": "code",
   "execution_count": 250,
   "id": "14e3dcea",
   "metadata": {},
   "outputs": [],
   "source": [
    "b = a"
   ]
  },
  {
   "cell_type": "code",
   "execution_count": 251,
   "id": "a61a1ffe",
   "metadata": {},
   "outputs": [
    {
     "data": {
      "text/plain": [
       "140480285361680"
      ]
     },
     "execution_count": 251,
     "metadata": {},
     "output_type": "execute_result"
    }
   ],
   "source": [
    "id(b)"
   ]
  },
  {
   "cell_type": "code",
   "execution_count": 252,
   "id": "b8add5de",
   "metadata": {},
   "outputs": [],
   "source": [
    "a += 1"
   ]
  },
  {
   "cell_type": "code",
   "execution_count": 253,
   "id": "e14ccdad",
   "metadata": {},
   "outputs": [
    {
     "data": {
      "text/plain": [
       "140480285361712"
      ]
     },
     "execution_count": 253,
     "metadata": {},
     "output_type": "execute_result"
    }
   ],
   "source": [
    "id(a)"
   ]
  },
  {
   "cell_type": "code",
   "execution_count": 254,
   "id": "0e4bf73a",
   "metadata": {},
   "outputs": [
    {
     "data": {
      "text/plain": [
       "42"
      ]
     },
     "execution_count": 254,
     "metadata": {},
     "output_type": "execute_result"
    }
   ],
   "source": [
    "b"
   ]
  },
  {
   "cell_type": "code",
   "execution_count": 255,
   "id": "f738e6ea",
   "metadata": {},
   "outputs": [
    {
     "data": {
      "text/plain": [
       "140480285361680"
      ]
     },
     "execution_count": 255,
     "metadata": {},
     "output_type": "execute_result"
    }
   ],
   "source": [
    "id(b)"
   ]
  },
  {
   "cell_type": "code",
   "execution_count": 256,
   "id": "b0d4966c",
   "metadata": {},
   "outputs": [
    {
     "data": {
      "text/plain": [
       "140479638477760"
      ]
     },
     "execution_count": 256,
     "metadata": {},
     "output_type": "execute_result"
    }
   ],
   "source": [
    "l1 = [42, 'xy', 13]\n",
    "id(l1)"
   ]
  },
  {
   "cell_type": "code",
   "execution_count": 257,
   "id": "f8878a96",
   "metadata": {},
   "outputs": [],
   "source": [
    "l2 = l1"
   ]
  },
  {
   "cell_type": "code",
   "execution_count": 258,
   "id": "6fc28c26",
   "metadata": {},
   "outputs": [
    {
     "data": {
      "text/plain": [
       "140479638477760"
      ]
     },
     "execution_count": 258,
     "metadata": {},
     "output_type": "execute_result"
    }
   ],
   "source": [
    "id(l2)"
   ]
  },
  {
   "cell_type": "code",
   "execution_count": 259,
   "id": "93a15a68",
   "metadata": {},
   "outputs": [
    {
     "data": {
      "text/plain": [
       "[42, 'xy', 13, 666]"
      ]
     },
     "execution_count": 259,
     "metadata": {},
     "output_type": "execute_result"
    }
   ],
   "source": [
    "l1.append(666)\n",
    "l1"
   ]
  },
  {
   "cell_type": "code",
   "execution_count": 260,
   "id": "e3975327",
   "metadata": {},
   "outputs": [
    {
     "data": {
      "text/plain": [
       "140479638477760"
      ]
     },
     "execution_count": 260,
     "metadata": {},
     "output_type": "execute_result"
    }
   ],
   "source": [
    "id(l1)"
   ]
  },
  {
   "cell_type": "code",
   "execution_count": 261,
   "id": "c1b03bc8",
   "metadata": {},
   "outputs": [
    {
     "data": {
      "text/plain": [
       "140479638477760"
      ]
     },
     "execution_count": 261,
     "metadata": {},
     "output_type": "execute_result"
    }
   ],
   "source": [
    "id(l2)"
   ]
  },
  {
   "cell_type": "code",
   "execution_count": 262,
   "id": "62094d12",
   "metadata": {},
   "outputs": [
    {
     "data": {
      "text/plain": [
       "[42, 'xy', 13, 666]"
      ]
     },
     "execution_count": 262,
     "metadata": {},
     "output_type": "execute_result"
    }
   ],
   "source": [
    "l2"
   ]
  },
  {
   "cell_type": "code",
   "execution_count": 263,
   "id": "ac208040",
   "metadata": {},
   "outputs": [],
   "source": [
    "l3 = l1[:]"
   ]
  },
  {
   "cell_type": "code",
   "execution_count": 264,
   "id": "96195c74",
   "metadata": {},
   "outputs": [
    {
     "data": {
      "text/plain": [
       "[42, 'xy', 13, 666]"
      ]
     },
     "execution_count": 264,
     "metadata": {},
     "output_type": "execute_result"
    }
   ],
   "source": [
    "l3"
   ]
  },
  {
   "cell_type": "code",
   "execution_count": 265,
   "id": "a47802cf",
   "metadata": {},
   "outputs": [
    {
     "data": {
      "text/plain": [
       "[42, 'xy', 13, 666]"
      ]
     },
     "execution_count": 265,
     "metadata": {},
     "output_type": "execute_result"
    }
   ],
   "source": [
    "l1"
   ]
  },
  {
   "cell_type": "code",
   "execution_count": 267,
   "id": "3322de1f",
   "metadata": {},
   "outputs": [
    {
     "data": {
      "text/plain": [
       "140479638477760"
      ]
     },
     "execution_count": 267,
     "metadata": {},
     "output_type": "execute_result"
    }
   ],
   "source": [
    "id(l1)"
   ]
  },
  {
   "cell_type": "code",
   "execution_count": 268,
   "id": "dc8ed46f",
   "metadata": {},
   "outputs": [
    {
     "data": {
      "text/plain": [
       "140479638427520"
      ]
     },
     "execution_count": 268,
     "metadata": {},
     "output_type": "execute_result"
    }
   ],
   "source": [
    "id(l3)"
   ]
  },
  {
   "cell_type": "code",
   "execution_count": 269,
   "id": "5832f610",
   "metadata": {},
   "outputs": [
    {
     "data": {
      "text/plain": [
       "[42, 'xy', 13, 666, 'nochwas']"
      ]
     },
     "execution_count": 269,
     "metadata": {},
     "output_type": "execute_result"
    }
   ],
   "source": [
    "l3.append('nochwas')\n",
    "l3"
   ]
  },
  {
   "cell_type": "code",
   "execution_count": 270,
   "id": "ff737010",
   "metadata": {},
   "outputs": [
    {
     "data": {
      "text/plain": [
       "[42, 'xy', 13, 666]"
      ]
     },
     "execution_count": 270,
     "metadata": {},
     "output_type": "execute_result"
    }
   ],
   "source": [
    "l1"
   ]
  },
  {
   "cell_type": "markdown",
   "id": "dd505e0f",
   "metadata": {},
   "source": [
    "Nested lists?"
   ]
  },
  {
   "cell_type": "code",
   "execution_count": 271,
   "id": "67c72d36",
   "metadata": {},
   "outputs": [
    {
     "data": {
      "text/plain": [
       "3"
      ]
     },
     "execution_count": 271,
     "metadata": {},
     "output_type": "execute_result"
    }
   ],
   "source": [
    "l4 = [1, [2,3,4], 5]\n",
    "len(l4)"
   ]
  },
  {
   "cell_type": "code",
   "execution_count": 272,
   "id": "0e828f3d",
   "metadata": {},
   "outputs": [],
   "source": [
    "l5 = l4[:]"
   ]
  },
  {
   "cell_type": "code",
   "execution_count": 273,
   "id": "1a0e7624",
   "metadata": {},
   "outputs": [
    {
     "data": {
      "text/plain": [
       "140480202528192"
      ]
     },
     "execution_count": 273,
     "metadata": {},
     "output_type": "execute_result"
    }
   ],
   "source": [
    "id(l4)"
   ]
  },
  {
   "cell_type": "code",
   "execution_count": 274,
   "id": "a9eb87c5",
   "metadata": {},
   "outputs": [
    {
     "data": {
      "text/plain": [
       "140479638428736"
      ]
     },
     "execution_count": 274,
     "metadata": {},
     "output_type": "execute_result"
    }
   ],
   "source": [
    "id(l5)"
   ]
  },
  {
   "cell_type": "code",
   "execution_count": 275,
   "id": "41f82c16",
   "metadata": {},
   "outputs": [],
   "source": [
    "l4[1].append(666)"
   ]
  },
  {
   "cell_type": "code",
   "execution_count": 276,
   "id": "44319826",
   "metadata": {},
   "outputs": [
    {
     "data": {
      "text/plain": [
       "[1, [2, 3, 4, 666], 5]"
      ]
     },
     "execution_count": 276,
     "metadata": {},
     "output_type": "execute_result"
    }
   ],
   "source": [
    "l5"
   ]
  },
  {
   "cell_type": "code",
   "execution_count": 278,
   "id": "74e54817",
   "metadata": {},
   "outputs": [
    {
     "data": {
      "text/plain": [
       "140480203212992"
      ]
     },
     "execution_count": 278,
     "metadata": {},
     "output_type": "execute_result"
    }
   ],
   "source": [
    "id(l4[1])"
   ]
  },
  {
   "cell_type": "code",
   "execution_count": 279,
   "id": "8496dfff",
   "metadata": {},
   "outputs": [
    {
     "data": {
      "text/plain": [
       "140480203212992"
      ]
     },
     "execution_count": 279,
     "metadata": {},
     "output_type": "execute_result"
    }
   ],
   "source": [
    "id(l5[1])"
   ]
  },
  {
   "cell_type": "code",
   "execution_count": 280,
   "id": "145e25b6",
   "metadata": {},
   "outputs": [],
   "source": [
    "import copy"
   ]
  },
  {
   "cell_type": "code",
   "execution_count": 281,
   "id": "c06ad2dc",
   "metadata": {},
   "outputs": [],
   "source": [
    "l6 = copy.deepcopy(l5)"
   ]
  },
  {
   "cell_type": "code",
   "execution_count": 282,
   "id": "607d946d",
   "metadata": {},
   "outputs": [
    {
     "data": {
      "text/plain": [
       "[1, [2, 3, 4, 666], 5]"
      ]
     },
     "execution_count": 282,
     "metadata": {},
     "output_type": "execute_result"
    }
   ],
   "source": [
    "l6"
   ]
  },
  {
   "cell_type": "markdown",
   "id": "8e76c308",
   "metadata": {},
   "source": [
    "## Functions"
   ]
  },
  {
   "cell_type": "code",
   "execution_count": 296,
   "id": "2ab9e90a",
   "metadata": {},
   "outputs": [],
   "source": [
    "def maximum(a, b):\n",
    "    'extremely complex function'\n",
    "    if a < b:\n",
    "        return b\n",
    "    else:\n",
    "        return a"
   ]
  },
  {
   "cell_type": "code",
   "execution_count": 285,
   "id": "095be777",
   "metadata": {},
   "outputs": [
    {
     "data": {
      "text/plain": [
       "2"
      ]
     },
     "execution_count": 285,
     "metadata": {},
     "output_type": "execute_result"
    }
   ],
   "source": [
    "maximum(1, 2)"
   ]
  },
  {
   "cell_type": "code",
   "execution_count": 287,
   "id": "23cc68cd",
   "metadata": {},
   "outputs": [
    {
     "data": {
      "text/plain": [
       "2.5"
      ]
     },
     "execution_count": 287,
     "metadata": {},
     "output_type": "execute_result"
    }
   ],
   "source": [
    "maximum(1.5, 2.5)"
   ]
  },
  {
   "cell_type": "code",
   "execution_count": 288,
   "id": "eaf68e5f",
   "metadata": {},
   "outputs": [
    {
     "data": {
      "text/plain": [
       "'def'"
      ]
     },
     "execution_count": 288,
     "metadata": {},
     "output_type": "execute_result"
    }
   ],
   "source": [
    "maximum('abc', 'def')"
   ]
  },
  {
   "cell_type": "code",
   "execution_count": 289,
   "id": "1e5481ca",
   "metadata": {},
   "outputs": [
    {
     "data": {
      "text/plain": [
       "[3, 4]"
      ]
     },
     "execution_count": 289,
     "metadata": {},
     "output_type": "execute_result"
    }
   ],
   "source": [
    "maximum([1,2], [3,4])"
   ]
  },
  {
   "cell_type": "code",
   "execution_count": 290,
   "id": "1cf6b345",
   "metadata": {},
   "outputs": [
    {
     "data": {
      "text/plain": [
       "[1, 4]"
      ]
     },
     "execution_count": 290,
     "metadata": {},
     "output_type": "execute_result"
    }
   ],
   "source": [
    "maximum([1,2], [1,4])"
   ]
  },
  {
   "cell_type": "code",
   "execution_count": 292,
   "id": "0010da69",
   "metadata": {},
   "outputs": [
    {
     "name": "stdout",
     "output_type": "stream",
     "text": [
      "'<' not supported between instances of 'str' and 'int' <class 'TypeError'>\n"
     ]
    }
   ],
   "source": [
    "try:\n",
    "    maximum('abc', 666)\n",
    "except Exception as e:\n",
    "    print(e, type(e))"
   ]
  },
  {
   "cell_type": "code",
   "execution_count": 293,
   "id": "b7609121",
   "metadata": {},
   "outputs": [
    {
     "data": {
      "text/plain": [
       "False"
      ]
     },
     "execution_count": 293,
     "metadata": {},
     "output_type": "execute_result"
    }
   ],
   "source": [
    "True < False"
   ]
  },
  {
   "cell_type": "code",
   "execution_count": 295,
   "id": "ef94ec89",
   "metadata": {},
   "outputs": [
    {
     "name": "stdout",
     "output_type": "stream",
     "text": [
      "<class 'function'>\n"
     ]
    }
   ],
   "source": [
    "print(type(maximum))"
   ]
  },
  {
   "cell_type": "code",
   "execution_count": 298,
   "id": "41d2c832",
   "metadata": {},
   "outputs": [
    {
     "data": {
      "text/plain": [
       "'extremely complex function'"
      ]
     },
     "execution_count": 298,
     "metadata": {},
     "output_type": "execute_result"
    }
   ],
   "source": [
    "maximum.__doc__"
   ]
  },
  {
   "cell_type": "code",
   "execution_count": 299,
   "id": "15ea9a08",
   "metadata": {},
   "outputs": [],
   "source": [
    "a = maximum"
   ]
  },
  {
   "cell_type": "code",
   "execution_count": 301,
   "id": "d013c758",
   "metadata": {},
   "outputs": [
    {
     "data": {
      "text/plain": [
       "2"
      ]
     },
     "execution_count": 301,
     "metadata": {},
     "output_type": "execute_result"
    }
   ],
   "source": [
    "a(1,2)"
   ]
  },
  {
   "cell_type": "code",
   "execution_count": 302,
   "id": "58ec5d58",
   "metadata": {},
   "outputs": [
    {
     "data": {
      "text/plain": [
       "140479598069936"
      ]
     },
     "execution_count": 302,
     "metadata": {},
     "output_type": "execute_result"
    }
   ],
   "source": [
    "id(a)"
   ]
  },
  {
   "cell_type": "code",
   "execution_count": 303,
   "id": "bdf85ec7",
   "metadata": {},
   "outputs": [
    {
     "data": {
      "text/plain": [
       "140479598069936"
      ]
     },
     "execution_count": 303,
     "metadata": {},
     "output_type": "execute_result"
    }
   ],
   "source": [
    "id(maximum)"
   ]
  },
  {
   "cell_type": "markdown",
   "id": "845a0536",
   "metadata": {},
   "source": [
    "Classes?"
   ]
  },
  {
   "cell_type": "code",
   "execution_count": 313,
   "id": "b74080fb",
   "metadata": {},
   "outputs": [],
   "source": [
    "class Person:\n",
    "    def __init__(self, firstname, lastname, age):\n",
    "        self.firstname = firstname\n",
    "        self.lastname = lastname\n",
    "        self.age = age\n",
    "    def fullname(self):\n",
    "        return self.firstname + ' ' + self.lastname"
   ]
  },
  {
   "cell_type": "code",
   "execution_count": 312,
   "id": "48379ecc",
   "metadata": {},
   "outputs": [],
   "source": [
    "joerg = Person('Joerg', 'Faschingbauer', 56)"
   ]
  },
  {
   "cell_type": "code",
   "execution_count": 309,
   "id": "f2ee08b1",
   "metadata": {},
   "outputs": [
    {
     "data": {
      "text/plain": [
       "__main__.Person"
      ]
     },
     "execution_count": 309,
     "metadata": {},
     "output_type": "execute_result"
    }
   ],
   "source": [
    "type(joerg)"
   ]
  },
  {
   "cell_type": "code",
   "execution_count": 314,
   "id": "07348899",
   "metadata": {},
   "outputs": [
    {
     "data": {
      "text/plain": [
       "'Joerg Faschingbauer'"
      ]
     },
     "execution_count": 314,
     "metadata": {},
     "output_type": "execute_result"
    }
   ],
   "source": [
    "joerg.fullname()"
   ]
  },
  {
   "cell_type": "code",
   "execution_count": 317,
   "id": "43abab8b",
   "metadata": {},
   "outputs": [],
   "source": [
    "def is_old(p):\n",
    "    if p.age > 50:\n",
    "        return True\n",
    "    else:\n",
    "        return False"
   ]
  },
  {
   "cell_type": "code",
   "execution_count": 318,
   "id": "5637db79",
   "metadata": {},
   "outputs": [
    {
     "data": {
      "text/plain": [
       "True"
      ]
     },
     "execution_count": 318,
     "metadata": {},
     "output_type": "execute_result"
    }
   ],
   "source": [
    "is_old(joerg)"
   ]
  },
  {
   "cell_type": "code",
   "execution_count": 320,
   "id": "efcddbde",
   "metadata": {},
   "outputs": [],
   "source": [
    "Person.old = is_old"
   ]
  },
  {
   "cell_type": "code",
   "execution_count": 321,
   "id": "d7026c91",
   "metadata": {},
   "outputs": [],
   "source": [
    "joerg = Person('Joerg', 'Faschingbauer', 56)"
   ]
  },
  {
   "cell_type": "code",
   "execution_count": 322,
   "id": "7c5768ae",
   "metadata": {},
   "outputs": [
    {
     "data": {
      "text/plain": [
       "True"
      ]
     },
     "execution_count": 322,
     "metadata": {},
     "output_type": "execute_result"
    }
   ],
   "source": [
    "joerg.old()"
   ]
  }
 ],
 "metadata": {
  "kernelspec": {
   "display_name": "Python 3 (ipykernel)",
   "language": "python",
   "name": "python3"
  },
  "language_info": {
   "codemirror_mode": {
    "name": "ipython",
    "version": 3
   },
   "file_extension": ".py",
   "mimetype": "text/x-python",
   "name": "python",
   "nbconvert_exporter": "python",
   "pygments_lexer": "ipython3",
   "version": "3.10.7"
  }
 },
 "nbformat": 4,
 "nbformat_minor": 5
}
