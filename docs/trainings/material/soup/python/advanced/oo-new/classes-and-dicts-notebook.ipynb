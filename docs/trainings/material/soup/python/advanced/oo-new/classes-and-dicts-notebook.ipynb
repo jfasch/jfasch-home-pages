{
 "cells": [
  {
   "cell_type": "markdown",
   "id": "7aed692c",
   "metadata": {},
   "source": [
    "# Classes and Dictionaries"
   ]
  },
  {
   "cell_type": "markdown",
   "id": "4ac23455",
   "metadata": {},
   "source": [
    "An \"object\" ..."
   ]
  },
  {
   "cell_type": "code",
   "execution_count": 1,
   "id": "bffcc517",
   "metadata": {},
   "outputs": [],
   "source": [
    "obj = {}"
   ]
  },
  {
   "cell_type": "markdown",
   "id": "b71eb465",
   "metadata": {},
   "source": [
    "Setting \"attributes\""
   ]
  },
  {
   "cell_type": "code",
   "execution_count": 2,
   "id": "88ffaad5",
   "metadata": {},
   "outputs": [],
   "source": [
    "obj['attr1'] = 'blah'\n",
    "obj['attr2'] = 42"
   ]
  },
  {
   "cell_type": "markdown",
   "id": "ae00134e",
   "metadata": {},
   "source": [
    "Getting \"attributes\""
   ]
  },
  {
   "cell_type": "code",
   "execution_count": 3,
   "id": "e5a43791",
   "metadata": {},
   "outputs": [
    {
     "data": {
      "text/plain": [
       "'blah'"
      ]
     },
     "execution_count": 3,
     "metadata": {},
     "output_type": "execute_result"
    }
   ],
   "source": [
    "obj['attr1']"
   ]
  },
  {
   "cell_type": "code",
   "execution_count": 4,
   "id": "2e3ce1ed",
   "metadata": {},
   "outputs": [
    {
     "data": {
      "text/plain": [
       "dict"
      ]
     },
     "execution_count": 4,
     "metadata": {},
     "output_type": "execute_result"
    }
   ],
   "source": [
    "type(obj)"
   ]
  },
  {
   "cell_type": "markdown",
   "id": "7cdfb43b",
   "metadata": {},
   "source": [
    "## Creating a Class"
   ]
  },
  {
   "cell_type": "code",
   "execution_count": 5,
   "id": "55967a56",
   "metadata": {},
   "outputs": [],
   "source": [
    "class X:\n",
    "    pass"
   ]
  },
  {
   "cell_type": "markdown",
   "id": "a2ce4c45",
   "metadata": {},
   "source": [
    "**Metaprogramming?** A class is-a type"
   ]
  },
  {
   "cell_type": "code",
   "execution_count": 6,
   "id": "812551b8",
   "metadata": {},
   "outputs": [
    {
     "data": {
      "text/plain": [
       "type"
      ]
     },
     "execution_count": 6,
     "metadata": {},
     "output_type": "execute_result"
    }
   ],
   "source": [
    "type(X)"
   ]
  },
  {
   "cell_type": "markdown",
   "id": "71b94985",
   "metadata": {},
   "source": [
    "**Instantiating an object of X ...**"
   ]
  },
  {
   "cell_type": "code",
   "execution_count": 7,
   "id": "b2cc0e72",
   "metadata": {},
   "outputs": [],
   "source": [
    "obj = X()"
   ]
  },
  {
   "cell_type": "code",
   "execution_count": 8,
   "id": "d7b42c03",
   "metadata": {},
   "outputs": [
    {
     "data": {
      "text/plain": [
       "__main__.X"
      ]
     },
     "execution_count": 8,
     "metadata": {},
     "output_type": "execute_result"
    }
   ],
   "source": [
    "type(obj)"
   ]
  },
  {
   "cell_type": "markdown",
   "id": "d490e265",
   "metadata": {},
   "source": [
    "## Attributes: Dot ('.') Notation"
   ]
  },
  {
   "cell_type": "markdown",
   "id": "857fdbf7",
   "metadata": {},
   "source": [
    "**Dot ('.') notation: shorthand for dictionary access**"
   ]
  },
  {
   "cell_type": "code",
   "execution_count": 9,
   "id": "e260997b",
   "metadata": {},
   "outputs": [],
   "source": [
    "obj.attr1 = 'blah'\n",
    "obj.attr2 = 42"
   ]
  },
  {
   "cell_type": "code",
   "execution_count": 10,
   "id": "a2fb4cba",
   "metadata": {},
   "outputs": [
    {
     "data": {
      "text/plain": [
       "'blah'"
      ]
     },
     "execution_count": 10,
     "metadata": {},
     "output_type": "execute_result"
    }
   ],
   "source": [
    "obj.attr1"
   ]
  },
  {
   "cell_type": "code",
   "execution_count": 11,
   "id": "b374205e",
   "metadata": {},
   "outputs": [],
   "source": [
    "try:\n",
    "    obj.attr3    # does not exist\n",
    "except AttributeError:\n",
    "    pass"
   ]
  },
  {
   "cell_type": "markdown",
   "id": "8546b8e6",
   "metadata": {},
   "source": [
    "## Dynamic attribute access"
   ]
  },
  {
   "cell_type": "markdown",
   "id": "7c25b26b",
   "metadata": {},
   "source": [
    "Probably more that you ever wanted to know"
   ]
  },
  {
   "cell_type": "code",
   "execution_count": 12,
   "id": "911519bc",
   "metadata": {},
   "outputs": [
    {
     "data": {
      "text/plain": [
       "True"
      ]
     },
     "execution_count": 12,
     "metadata": {},
     "output_type": "execute_result"
    }
   ],
   "source": [
    "hasattr(obj, 'attr1')"
   ]
  },
  {
   "cell_type": "code",
   "execution_count": 13,
   "id": "a84da11a",
   "metadata": {},
   "outputs": [
    {
     "data": {
      "text/plain": [
       "'blah'"
      ]
     },
     "execution_count": 13,
     "metadata": {},
     "output_type": "execute_result"
    }
   ],
   "source": [
    "getattr(obj, 'attr1')"
   ]
  },
  {
   "cell_type": "code",
   "execution_count": 14,
   "id": "0046d53a",
   "metadata": {},
   "outputs": [],
   "source": [
    "try:\n",
    "    getattr(obj, 'attr3')  # does not exist\n",
    "except AttributeError:\n",
    "    pass"
   ]
  },
  {
   "cell_type": "code",
   "execution_count": 15,
   "id": "fa4cc6a4",
   "metadata": {},
   "outputs": [],
   "source": [
    "setattr(obj, 'attr3', 666)   # a new attribute"
   ]
  },
  {
   "cell_type": "markdown",
   "id": "1144fe6c",
   "metadata": {},
   "source": [
    "**``__dict__``: Object dictionary**"
   ]
  },
  {
   "cell_type": "code",
   "execution_count": 16,
   "id": "92d71287",
   "metadata": {},
   "outputs": [
    {
     "data": {
      "text/plain": [
       "{'attr1': 'blah', 'attr2': 42, 'attr3': 666}"
      ]
     },
     "execution_count": 16,
     "metadata": {},
     "output_type": "execute_result"
    }
   ],
   "source": [
    "obj.__dict__"
   ]
  },
  {
   "cell_type": "markdown",
   "id": "4db11cf4",
   "metadata": {},
   "source": [
    "**``dir()``: Object and class attributes (combined lookup)**"
   ]
  },
  {
   "cell_type": "code",
   "execution_count": 18,
   "id": "c8d74624",
   "metadata": {},
   "outputs": [
    {
     "data": {
      "text/plain": [
       "['__class__',\n",
       " '__delattr__',\n",
       " '__dict__',\n",
       " '__dir__',\n",
       " '__doc__',\n",
       " '__eq__',\n",
       " '__format__',\n",
       " '__ge__',\n",
       " '__getattribute__',\n",
       " '__gt__',\n",
       " '__hash__',\n",
       " '__init__',\n",
       " '__init_subclass__',\n",
       " '__le__',\n",
       " '__lt__',\n",
       " '__module__',\n",
       " '__ne__',\n",
       " '__new__',\n",
       " '__reduce__',\n",
       " '__reduce_ex__',\n",
       " '__repr__',\n",
       " '__setattr__',\n",
       " '__sizeof__',\n",
       " '__str__',\n",
       " '__subclasshook__',\n",
       " '__weakref__',\n",
       " 'attr1',\n",
       " 'attr2',\n",
       " 'attr3']"
      ]
     },
     "execution_count": 18,
     "metadata": {},
     "output_type": "execute_result"
    }
   ],
   "source": [
    "dir(obj)"
   ]
  }
 ],
 "metadata": {
  "kernelspec": {
   "display_name": "Python 3 (ipykernel)",
   "language": "python",
   "name": "python3"
  },
  "language_info": {
   "codemirror_mode": {
    "name": "ipython",
    "version": 3
   },
   "file_extension": ".py",
   "mimetype": "text/x-python",
   "name": "python",
   "nbconvert_exporter": "python",
   "pygments_lexer": "ipython3",
   "version": "3.10.7"
  }
 },
 "nbformat": 4,
 "nbformat_minor": 5
}
