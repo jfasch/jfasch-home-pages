{
 "cells": [
  {
   "cell_type": "markdown",
   "metadata": {},
   "source": [
    "# 2021-05-19"
   ]
  },
  {
   "cell_type": "markdown",
   "metadata": {},
   "source": [
    "## Dictionary Instantiation"
   ]
  },
  {
   "cell_type": "code",
   "execution_count": 2,
   "metadata": {},
   "outputs": [
    {
     "data": {
      "text/plain": [
       "dict"
      ]
     },
     "execution_count": 2,
     "metadata": {},
     "output_type": "execute_result"
    }
   ],
   "source": [
    "type({})"
   ]
  },
  {
   "cell_type": "code",
   "execution_count": 4,
   "metadata": {},
   "outputs": [
    {
     "data": {
      "text/plain": [
       "{}"
      ]
     },
     "execution_count": 4,
     "metadata": {},
     "output_type": "execute_result"
    }
   ],
   "source": [
    "dict()"
   ]
  },
  {
   "cell_type": "markdown",
   "metadata": {},
   "source": [
    "Das ist ein **Literal**"
   ]
  },
  {
   "cell_type": "code",
   "execution_count": 6,
   "metadata": {},
   "outputs": [
    {
     "data": {
      "text/plain": [
       "{}"
      ]
     },
     "execution_count": 6,
     "metadata": {},
     "output_type": "execute_result"
    }
   ],
   "source": [
    "{}"
   ]
  },
  {
   "cell_type": "code",
   "execution_count": 7,
   "metadata": {},
   "outputs": [
    {
     "data": {
      "text/plain": [
       "{1: 'one', 2: 'two'}"
      ]
     },
     "execution_count": 7,
     "metadata": {},
     "output_type": "execute_result"
    }
   ],
   "source": [
    "{1:'one', 2:'two'}"
   ]
  },
  {
   "cell_type": "markdown",
   "metadata": {},
   "source": [
    "Das ist **kein** Literal"
   ]
  },
  {
   "cell_type": "code",
   "execution_count": 10,
   "metadata": {},
   "outputs": [
    {
     "data": {
      "text/plain": [
       "{1: 'one', 2: 'two'}"
      ]
     },
     "execution_count": 10,
     "metadata": {},
     "output_type": "execute_result"
    }
   ],
   "source": [
    "dict([(1, 'one'), (2, 'two')])"
   ]
  },
  {
   "cell_type": "markdown",
   "metadata": {},
   "source": [
    "Das ist ein Blödsinn:"
   ]
  },
  {
   "cell_type": "code",
   "execution_count": 13,
   "metadata": {},
   "outputs": [],
   "source": [
    "d = dict()\n",
    "d = {1:'one', 2:'two'}"
   ]
  },
  {
   "cell_type": "markdown",
   "metadata": {},
   "source": [
    "Warum? Weil es das erste Dictionary mit dem zweiten überschreibt. "
   ]
  },
  {
   "cell_type": "markdown",
   "metadata": {},
   "source": [
    "## File IO"
   ]
  },
  {
   "cell_type": "code",
   "execution_count": 17,
   "metadata": {},
   "outputs": [],
   "source": [
    "filename = '../Exercises/files/students.txt'"
   ]
  },
  {
   "cell_type": "code",
   "execution_count": 22,
   "metadata": {},
   "outputs": [],
   "source": [
    "f = open(filename)"
   ]
  },
  {
   "cell_type": "code",
   "execution_count": 20,
   "metadata": {},
   "outputs": [
    {
     "data": {
      "text/plain": [
       "_io.TextIOWrapper"
      ]
     },
     "execution_count": 20,
     "metadata": {},
     "output_type": "execute_result"
    }
   ],
   "source": [
    "type(f)"
   ]
  },
  {
   "cell_type": "markdown",
   "metadata": {},
   "source": [
    "### Reading entire File in one big Swoop"
   ]
  },
  {
   "cell_type": "markdown",
   "metadata": {},
   "source": [
    "*Careful* when reading large file!"
   ]
  },
  {
   "cell_type": "code",
   "execution_count": 23,
   "metadata": {},
   "outputs": [
    {
     "data": {
      "text/plain": [
       "'1910420003;Corinna;Baumgartner\\n1910420002;Anzhelika;Chernykh\\n1910420005;Simon;Hu\\n1910420006;Matthias;Kappel\\n1810420009;Peter;Kolter\\n1920420033;Jan;Kornberger\\n1910420007;Luis;Kraker\\n1810420010;Leonid;Kudriaschov\\n1910420008;Michael;Lang\\n1910420010;Sonja;Lukas\\n1910420013;Behnaz;Mehrabadi\\n1910420014;Leo;Moser\\n1910420015;Moritz;Nagelschmied\\n1910420018;Bianca;Reimer\\n1910420020;Tim;Schmid\\n1910420021;Lukas;Schüttler\\n1910420022;Michael;Schweiger\\n1910420024;Paul;Sinabell\\n1910420025;Jan;Slovik\\n1910420026;Daniel;Söls\\n1910420027;Michael;Stangl\\n1910420028;Felix;Themessl\\n1920420035;Astrid;Vogel\\n1810420029;Florian;Zwittnigg\\n666;Jörg;Faschingbauer\\n'"
      ]
     },
     "execution_count": 23,
     "metadata": {},
     "output_type": "execute_result"
    }
   ],
   "source": [
    "content = f.read()\n",
    "content"
   ]
  },
  {
   "cell_type": "code",
   "execution_count": 25,
   "metadata": {},
   "outputs": [
    {
     "data": {
      "text/plain": [
       "['1910420003;Corinna;Baumgartner',\n",
       " '1910420002;Anzhelika;Chernykh',\n",
       " '1910420005;Simon;Hu',\n",
       " '1910420006;Matthias;Kappel',\n",
       " '1810420009;Peter;Kolter',\n",
       " '1920420033;Jan;Kornberger',\n",
       " '1910420007;Luis;Kraker',\n",
       " '1810420010;Leonid;Kudriaschov',\n",
       " '1910420008;Michael;Lang',\n",
       " '1910420010;Sonja;Lukas',\n",
       " '1910420013;Behnaz;Mehrabadi',\n",
       " '1910420014;Leo;Moser',\n",
       " '1910420015;Moritz;Nagelschmied',\n",
       " '1910420018;Bianca;Reimer',\n",
       " '1910420020;Tim;Schmid',\n",
       " '1910420021;Lukas;Schüttler',\n",
       " '1910420022;Michael;Schweiger',\n",
       " '1910420024;Paul;Sinabell',\n",
       " '1910420025;Jan;Slovik',\n",
       " '1910420026;Daniel;Söls',\n",
       " '1910420027;Michael;Stangl',\n",
       " '1910420028;Felix;Themessl',\n",
       " '1920420035;Astrid;Vogel',\n",
       " '1810420029;Florian;Zwittnigg',\n",
       " '666;Jörg;Faschingbauer',\n",
       " '']"
      ]
     },
     "execution_count": 25,
     "metadata": {},
     "output_type": "execute_result"
    }
   ],
   "source": [
    "content.split('\\n')"
   ]
  },
  {
   "cell_type": "markdown",
   "metadata": {},
   "source": [
    "### Reading Files in Chunks of ``n`` Characters"
   ]
  },
  {
   "cell_type": "markdown",
   "metadata": {},
   "source": [
    "*Note*: one ``read(n)`` continues where the previous ``read()`` left off."
   ]
  },
  {
   "cell_type": "code",
   "execution_count": 26,
   "metadata": {},
   "outputs": [],
   "source": [
    "f = open(filename)"
   ]
  },
  {
   "cell_type": "code",
   "execution_count": 27,
   "metadata": {},
   "outputs": [
    {
     "data": {
      "text/plain": [
       "'1910420003'"
      ]
     },
     "execution_count": 27,
     "metadata": {},
     "output_type": "execute_result"
    }
   ],
   "source": [
    "f.read(10)"
   ]
  },
  {
   "cell_type": "code",
   "execution_count": 28,
   "metadata": {},
   "outputs": [
    {
     "data": {
      "text/plain": [
       "';'"
      ]
     },
     "execution_count": 28,
     "metadata": {},
     "output_type": "execute_result"
    }
   ],
   "source": [
    "f.read(1)"
   ]
  },
  {
   "cell_type": "code",
   "execution_count": 29,
   "metadata": {},
   "outputs": [
    {
     "data": {
      "text/plain": [
       "'Corinna;Ba'"
      ]
     },
     "execution_count": 29,
     "metadata": {},
     "output_type": "execute_result"
    }
   ],
   "source": [
    "f.read(10)"
   ]
  },
  {
   "cell_type": "code",
   "execution_count": 30,
   "metadata": {},
   "outputs": [
    {
     "data": {
      "text/plain": [
       "'umgartner\\n1910420002;Anzhelika;Chernykh\\n1910420005;Simon;Hu\\n1910420006;Matthias;Kappel\\n1810420009;Pe'"
      ]
     },
     "execution_count": 30,
     "metadata": {},
     "output_type": "execute_result"
    }
   ],
   "source": [
    "f.read(100)"
   ]
  },
  {
   "cell_type": "code",
   "execution_count": 31,
   "metadata": {},
   "outputs": [
    {
     "data": {
      "text/plain": [
       "'ter;Kolter\\n1920420033;Jan;Kornberger\\n1910420007;Luis;Kraker\\n1810420010;Leonid;Kudriaschov\\n1910420008'"
      ]
     },
     "execution_count": 31,
     "metadata": {},
     "output_type": "execute_result"
    }
   ],
   "source": [
    "f.read(100)"
   ]
  },
  {
   "cell_type": "code",
   "execution_count": 32,
   "metadata": {},
   "outputs": [
    {
     "data": {
      "text/plain": [
       "';Michael;Lang\\n1910420010;Sonja;Lukas\\n1910420013;Behnaz;Mehrabadi\\n1910420014;Leo;Moser\\n1910420015;Mor'"
      ]
     },
     "execution_count": 32,
     "metadata": {},
     "output_type": "execute_result"
    }
   ],
   "source": [
    "f.read(100)"
   ]
  },
  {
   "cell_type": "code",
   "execution_count": 33,
   "metadata": {},
   "outputs": [
    {
     "data": {
      "text/plain": [
       "'itz;Nagelschmied\\n1910420018;Bianca;Reimer\\n1910420020;Tim;Schmid\\n1910420021;Lukas;Schüttler\\n191042002'"
      ]
     },
     "execution_count": 33,
     "metadata": {},
     "output_type": "execute_result"
    }
   ],
   "source": [
    "f.read(100)"
   ]
  },
  {
   "cell_type": "code",
   "execution_count": 34,
   "metadata": {},
   "outputs": [
    {
     "data": {
      "text/plain": [
       "'2;Michael;Schweiger\\n1910420024;Paul;Sinabell\\n1910420025;Jan;Slovik\\n1910420026;Daniel;Söls\\n1910420027'"
      ]
     },
     "execution_count": 34,
     "metadata": {},
     "output_type": "execute_result"
    }
   ],
   "source": [
    "f.read(100)"
   ]
  },
  {
   "cell_type": "code",
   "execution_count": 35,
   "metadata": {},
   "outputs": [
    {
     "data": {
      "text/plain": [
       "';Michael;Stangl\\n1910420028;Felix;Themessl\\n1920420035;Astrid;Vogel\\n1810420029;Florian;Zwittnigg\\n666;J'"
      ]
     },
     "execution_count": 35,
     "metadata": {},
     "output_type": "execute_result"
    }
   ],
   "source": [
    "f.read(100)"
   ]
  },
  {
   "cell_type": "code",
   "execution_count": 36,
   "metadata": {},
   "outputs": [
    {
     "data": {
      "text/plain": [
       "'örg;Faschingbauer\\n'"
      ]
     },
     "execution_count": 36,
     "metadata": {},
     "output_type": "execute_result"
    }
   ],
   "source": [
    "f.read(100)"
   ]
  },
  {
   "cell_type": "markdown",
   "metadata": {},
   "source": [
    "Jetzt is gleich aus ..."
   ]
  },
  {
   "cell_type": "markdown",
   "metadata": {},
   "source": [
    "#### End of File (EOF)"
   ]
  },
  {
   "cell_type": "code",
   "execution_count": 37,
   "metadata": {},
   "outputs": [
    {
     "data": {
      "text/plain": [
       "''"
      ]
     },
     "execution_count": 37,
     "metadata": {},
     "output_type": "execute_result"
    }
   ],
   "source": [
    "f.read(100)"
   ]
  },
  {
   "cell_type": "markdown",
   "metadata": {},
   "source": [
    "Empty string -> End of File (EOF)"
   ]
  },
  {
   "cell_type": "markdown",
   "metadata": {},
   "source": [
    "### Reading Line by Line"
   ]
  },
  {
   "cell_type": "code",
   "execution_count": 72,
   "metadata": {},
   "outputs": [],
   "source": [
    "f = open(filename)"
   ]
  },
  {
   "cell_type": "markdown",
   "metadata": {},
   "source": [
    "First ..."
   ]
  },
  {
   "cell_type": "code",
   "execution_count": 73,
   "metadata": {},
   "outputs": [
    {
     "data": {
      "text/plain": [
       "'1910420003;Corinna;Baumgartner\\n'"
      ]
     },
     "execution_count": 73,
     "metadata": {},
     "output_type": "execute_result"
    }
   ],
   "source": [
    "f.readline()"
   ]
  },
  {
   "cell_type": "markdown",
   "metadata": {},
   "source": [
    "Second ..."
   ]
  },
  {
   "cell_type": "code",
   "execution_count": 74,
   "metadata": {},
   "outputs": [
    {
     "data": {
      "text/plain": [
       "'1910420002;Anzhelika;Chernykh\\n'"
      ]
     },
     "execution_count": 74,
     "metadata": {},
     "output_type": "execute_result"
    }
   ],
   "source": [
    "f.readline()"
   ]
  },
  {
   "cell_type": "markdown",
   "metadata": {},
   "source": [
    "A few more lines ..."
   ]
  },
  {
   "cell_type": "code",
   "execution_count": 75,
   "metadata": {},
   "outputs": [
    {
     "name": "stdout",
     "output_type": "stream",
     "text": [
      "1910420005;Simon;Hu\n",
      "\n",
      "1910420006;Matthias;Kappel\n",
      "\n",
      "1810420009;Peter;Kolter\n",
      "\n",
      "1920420033;Jan;Kornberger\n",
      "\n",
      "1910420007;Luis;Kraker\n",
      "\n",
      "1810420010;Leonid;Kudriaschov\n",
      "\n",
      "1910420008;Michael;Lang\n",
      "\n",
      "1910420010;Sonja;Lukas\n",
      "\n",
      "1910420013;Behnaz;Mehrabadi\n",
      "\n",
      "1910420014;Leo;Moser\n",
      "\n",
      "1910420015;Moritz;Nagelschmied\n",
      "\n",
      "1910420018;Bianca;Reimer\n",
      "\n",
      "1910420020;Tim;Schmid\n",
      "\n",
      "1910420021;Lukas;Schüttler\n",
      "\n",
      "1910420022;Michael;Schweiger\n",
      "\n",
      "1910420024;Paul;Sinabell\n",
      "\n",
      "1910420025;Jan;Slovik\n",
      "\n",
      "1910420026;Daniel;Söls\n",
      "\n",
      "1910420027;Michael;Stangl\n",
      "\n",
      "1910420028;Felix;Themessl\n",
      "\n",
      "1920420035;Astrid;Vogel\n",
      "\n",
      "1810420029;Florian;Zwittnigg\n",
      "\n"
     ]
    }
   ],
   "source": [
    "for _ in range(22):\n",
    "    print(f.readline())"
   ]
  },
  {
   "cell_type": "markdown",
   "metadata": {},
   "source": [
    "#### End of File (EOF)"
   ]
  },
  {
   "cell_type": "markdown",
   "metadata": {},
   "source": [
    "About to read the last line ..."
   ]
  },
  {
   "cell_type": "code",
   "execution_count": 76,
   "metadata": {},
   "outputs": [
    {
     "data": {
      "text/plain": [
       "'666;Jörg;Faschingbauer\\n'"
      ]
     },
     "execution_count": 76,
     "metadata": {},
     "output_type": "execute_result"
    }
   ],
   "source": [
    "f.readline()"
   ]
  },
  {
   "cell_type": "markdown",
   "metadata": {},
   "source": [
    "There is nothing more. End of File (EOF) is reached when we have consumed the entire file."
   ]
  },
  {
   "cell_type": "code",
   "execution_count": 77,
   "metadata": {},
   "outputs": [
    {
     "data": {
      "text/plain": [
       "''"
      ]
     },
     "execution_count": 77,
     "metadata": {},
     "output_type": "execute_result"
    }
   ],
   "source": [
    "f.readline()"
   ]
  },
  {
   "cell_type": "markdown",
   "metadata": {},
   "source": [
    "In real code, this would look like so ..."
   ]
  },
  {
   "cell_type": "code",
   "execution_count": 78,
   "metadata": {},
   "outputs": [],
   "source": [
    "f = open(filename)"
   ]
  },
  {
   "cell_type": "code",
   "execution_count": 79,
   "metadata": {},
   "outputs": [
    {
     "name": "stdout",
     "output_type": "stream",
     "text": [
      "1910420003;Corinna;Baumgartner\n",
      "\n",
      "1910420002;Anzhelika;Chernykh\n",
      "\n",
      "1910420005;Simon;Hu\n",
      "\n",
      "1910420006;Matthias;Kappel\n",
      "\n",
      "1810420009;Peter;Kolter\n",
      "\n",
      "1920420033;Jan;Kornberger\n",
      "\n",
      "1910420007;Luis;Kraker\n",
      "\n",
      "1810420010;Leonid;Kudriaschov\n",
      "\n",
      "1910420008;Michael;Lang\n",
      "\n",
      "1910420010;Sonja;Lukas\n",
      "\n",
      "1910420013;Behnaz;Mehrabadi\n",
      "\n",
      "1910420014;Leo;Moser\n",
      "\n",
      "1910420015;Moritz;Nagelschmied\n",
      "\n",
      "1910420018;Bianca;Reimer\n",
      "\n",
      "1910420020;Tim;Schmid\n",
      "\n",
      "1910420021;Lukas;Schüttler\n",
      "\n",
      "1910420022;Michael;Schweiger\n",
      "\n",
      "1910420024;Paul;Sinabell\n",
      "\n",
      "1910420025;Jan;Slovik\n",
      "\n",
      "1910420026;Daniel;Söls\n",
      "\n",
      "1910420027;Michael;Stangl\n",
      "\n",
      "1910420028;Felix;Themessl\n",
      "\n",
      "1920420035;Astrid;Vogel\n",
      "\n",
      "1810420029;Florian;Zwittnigg\n",
      "\n",
      "666;Jörg;Faschingbauer\n",
      "\n"
     ]
    }
   ],
   "source": [
    "while True:\n",
    "    line = f.readline()\n",
    "    if len(line) == 0:     # EOF\n",
    "        break\n",
    "    print(line)"
   ]
  },
  {
   "cell_type": "markdown",
   "metadata": {},
   "source": [
    "### Reading all Lines in one Big Swoop"
   ]
  },
  {
   "cell_type": "code",
   "execution_count": 51,
   "metadata": {},
   "outputs": [],
   "source": [
    "f = open(filename)"
   ]
  },
  {
   "cell_type": "code",
   "execution_count": 80,
   "metadata": {},
   "outputs": [],
   "source": [
    "lines = f.readlines()"
   ]
  },
  {
   "cell_type": "code",
   "execution_count": 54,
   "metadata": {},
   "outputs": [
    {
     "data": {
      "text/plain": [
       "['1910420003;Corinna;Baumgartner\\n',\n",
       " '1910420002;Anzhelika;Chernykh\\n',\n",
       " '1910420005;Simon;Hu\\n',\n",
       " '1910420006;Matthias;Kappel\\n',\n",
       " '1810420009;Peter;Kolter\\n',\n",
       " '1920420033;Jan;Kornberger\\n',\n",
       " '1910420007;Luis;Kraker\\n',\n",
       " '1810420010;Leonid;Kudriaschov\\n',\n",
       " '1910420008;Michael;Lang\\n',\n",
       " '1910420010;Sonja;Lukas\\n',\n",
       " '1910420013;Behnaz;Mehrabadi\\n',\n",
       " '1910420014;Leo;Moser\\n',\n",
       " '1910420015;Moritz;Nagelschmied\\n',\n",
       " '1910420018;Bianca;Reimer\\n',\n",
       " '1910420020;Tim;Schmid\\n',\n",
       " '1910420021;Lukas;Schüttler\\n',\n",
       " '1910420022;Michael;Schweiger\\n',\n",
       " '1910420024;Paul;Sinabell\\n',\n",
       " '1910420025;Jan;Slovik\\n',\n",
       " '1910420026;Daniel;Söls\\n',\n",
       " '1910420027;Michael;Stangl\\n',\n",
       " '1910420028;Felix;Themessl\\n',\n",
       " '1920420035;Astrid;Vogel\\n',\n",
       " '1810420029;Florian;Zwittnigg\\n',\n",
       " '666;Jörg;Faschingbauer\\n']"
      ]
     },
     "execution_count": 54,
     "metadata": {},
     "output_type": "execute_result"
    }
   ],
   "source": [
    "lines"
   ]
  },
  {
   "cell_type": "code",
   "execution_count": 56,
   "metadata": {},
   "outputs": [
    {
     "name": "stdout",
     "output_type": "stream",
     "text": [
      "1910420003;Corinna;Baumgartner\n",
      "\n",
      "1910420002;Anzhelika;Chernykh\n",
      "\n",
      "1910420005;Simon;Hu\n",
      "\n",
      "1910420006;Matthias;Kappel\n",
      "\n",
      "1810420009;Peter;Kolter\n",
      "\n",
      "1920420033;Jan;Kornberger\n",
      "\n",
      "1910420007;Luis;Kraker\n",
      "\n",
      "1810420010;Leonid;Kudriaschov\n",
      "\n",
      "1910420008;Michael;Lang\n",
      "\n",
      "1910420010;Sonja;Lukas\n",
      "\n",
      "1910420013;Behnaz;Mehrabadi\n",
      "\n",
      "1910420014;Leo;Moser\n",
      "\n",
      "1910420015;Moritz;Nagelschmied\n",
      "\n",
      "1910420018;Bianca;Reimer\n",
      "\n",
      "1910420020;Tim;Schmid\n",
      "\n",
      "1910420021;Lukas;Schüttler\n",
      "\n",
      "1910420022;Michael;Schweiger\n",
      "\n",
      "1910420024;Paul;Sinabell\n",
      "\n",
      "1910420025;Jan;Slovik\n",
      "\n",
      "1910420026;Daniel;Söls\n",
      "\n",
      "1910420027;Michael;Stangl\n",
      "\n",
      "1910420028;Felix;Themessl\n",
      "\n",
      "1920420035;Astrid;Vogel\n",
      "\n",
      "1810420029;Florian;Zwittnigg\n",
      "\n",
      "666;Jörg;Faschingbauer\n",
      "\n"
     ]
    }
   ],
   "source": [
    "for line in lines:\n",
    "    print(line)"
   ]
  },
  {
   "cell_type": "markdown",
   "metadata": {},
   "source": [
    "### File ist Iterable"
   ]
  },
  {
   "cell_type": "code",
   "execution_count": 57,
   "metadata": {},
   "outputs": [],
   "source": [
    "f = open(filename)"
   ]
  },
  {
   "cell_type": "code",
   "execution_count": 58,
   "metadata": {
    "scrolled": true
   },
   "outputs": [
    {
     "name": "stdout",
     "output_type": "stream",
     "text": [
      "1910420003;Corinna;Baumgartner\n",
      "\n",
      "1910420002;Anzhelika;Chernykh\n",
      "\n",
      "1910420005;Simon;Hu\n",
      "\n",
      "1910420006;Matthias;Kappel\n",
      "\n",
      "1810420009;Peter;Kolter\n",
      "\n",
      "1920420033;Jan;Kornberger\n",
      "\n",
      "1910420007;Luis;Kraker\n",
      "\n",
      "1810420010;Leonid;Kudriaschov\n",
      "\n",
      "1910420008;Michael;Lang\n",
      "\n",
      "1910420010;Sonja;Lukas\n",
      "\n",
      "1910420013;Behnaz;Mehrabadi\n",
      "\n",
      "1910420014;Leo;Moser\n",
      "\n",
      "1910420015;Moritz;Nagelschmied\n",
      "\n",
      "1910420018;Bianca;Reimer\n",
      "\n",
      "1910420020;Tim;Schmid\n",
      "\n",
      "1910420021;Lukas;Schüttler\n",
      "\n",
      "1910420022;Michael;Schweiger\n",
      "\n",
      "1910420024;Paul;Sinabell\n",
      "\n",
      "1910420025;Jan;Slovik\n",
      "\n",
      "1910420026;Daniel;Söls\n",
      "\n",
      "1910420027;Michael;Stangl\n",
      "\n",
      "1910420028;Felix;Themessl\n",
      "\n",
      "1920420035;Astrid;Vogel\n",
      "\n",
      "1810420029;Florian;Zwittnigg\n",
      "\n",
      "666;Jörg;Faschingbauer\n",
      "\n"
     ]
    }
   ],
   "source": [
    "for line in f:\n",
    "    print(line)"
   ]
  },
  {
   "cell_type": "markdown",
   "metadata": {},
   "source": [
    "## String Operations"
   ]
  },
  {
   "cell_type": "markdown",
   "metadata": {},
   "source": [
    "### ``str.split()``"
   ]
  },
  {
   "cell_type": "code",
   "execution_count": 83,
   "metadata": {},
   "outputs": [
    {
     "data": {
      "text/plain": [
       "['666', 'Jörg', 'Faschingbauer']"
      ]
     },
     "execution_count": 83,
     "metadata": {},
     "output_type": "execute_result"
    }
   ],
   "source": [
    "line = '666;Jörg;Faschingbauer'\n",
    "fields = line.split(';')\n",
    "fields"
   ]
  },
  {
   "cell_type": "code",
   "execution_count": 86,
   "metadata": {},
   "outputs": [],
   "source": [
    "matnr = fields[0]\n",
    "first = fields[1]\n",
    "last = fields[2]"
   ]
  },
  {
   "cell_type": "markdown",
   "metadata": {},
   "source": [
    "### ``str.strip()``, ``str.rstrip()``"
   ]
  },
  {
   "cell_type": "code",
   "execution_count": 95,
   "metadata": {},
   "outputs": [],
   "source": [
    "line = '\\n          blah   \\t    \\r\\n'   # \"blah\", surrounded by whitespace"
   ]
  },
  {
   "cell_type": "code",
   "execution_count": 96,
   "metadata": {},
   "outputs": [
    {
     "data": {
      "text/plain": [
       "'blah'"
      ]
     },
     "execution_count": 96,
     "metadata": {},
     "output_type": "execute_result"
    }
   ],
   "source": [
    "line.strip()"
   ]
  },
  {
   "cell_type": "code",
   "execution_count": 97,
   "metadata": {},
   "outputs": [
    {
     "data": {
      "text/plain": [
       "'\\n          blah'"
      ]
     },
     "execution_count": 97,
     "metadata": {},
     "output_type": "execute_result"
    }
   ],
   "source": [
    "line.rstrip()"
   ]
  },
  {
   "cell_type": "code",
   "execution_count": 101,
   "metadata": {},
   "outputs": [
    {
     "data": {
      "text/plain": [
       "'          blah   \\t    \\r'"
      ]
     },
     "execution_count": 101,
     "metadata": {},
     "output_type": "execute_result"
    }
   ],
   "source": [
    "line.strip('\\n')     # strip leading and trailing linefeed"
   ]
  },
  {
   "cell_type": "code",
   "execution_count": 102,
   "metadata": {},
   "outputs": [
    {
     "data": {
      "text/plain": [
       "'\\n          blah   \\t    \\r'"
      ]
     },
     "execution_count": 102,
     "metadata": {},
     "output_type": "execute_result"
    }
   ],
   "source": [
    "line.rstrip('\\n')     # strip only trailing linefeed"
   ]
  }
 ],
 "metadata": {
  "kernelspec": {
   "display_name": "Python 3",
   "language": "python",
   "name": "python3"
  },
  "language_info": {
   "codemirror_mode": {
    "name": "ipython",
    "version": 3
   },
   "file_extension": ".py",
   "mimetype": "text/x-python",
   "name": "python",
   "nbconvert_exporter": "python",
   "pygments_lexer": "ipython3",
   "version": "3.9.4"
  }
 },
 "nbformat": 4,
 "nbformat_minor": 4
}
